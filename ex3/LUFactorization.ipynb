{
 "cells": [
  {
   "cell_type": "markdown",
   "id": "c5d39623",
   "metadata": {},
   "source": [
    "# Proszę zaimplementować rekurencyjną LU faktoryzację bazując na swoim rekurencyjnym mnożeniu i odwracaniu macierzy\n"
   ]
  },
  {
   "cell_type": "code",
   "execution_count": 22,
   "id": "d95bfbda",
   "metadata": {},
   "outputs": [],
   "source": [
    "import random\n"
   ]
  },
  {
   "cell_type": "markdown",
   "id": "9c7a4e5f",
   "metadata": {},
   "source": [
    "### Tworzenie macierzy"
   ]
  },
  {
   "cell_type": "code",
   "execution_count": 23,
   "id": "f55b203d",
   "metadata": {},
   "outputs": [],
   "source": [
    "def createMatrix(size):\n",
    "    matrix = []\n",
    "    for i in range(size):\n",
    "        matrix.append([])\n",
    "        for j in range(size):\n",
    "            matrix[i].append(random.uniform(0, 1))\n",
    "    return matrix"
   ]
  },
  {
   "cell_type": "markdown",
   "id": "564e66e9",
   "metadata": {},
   "source": [
    "### Wyświetlenie macierzy"
   ]
  },
  {
   "cell_type": "code",
   "execution_count": 24,
   "id": "babc317e",
   "metadata": {},
   "outputs": [],
   "source": [
    "def printMatrix(matrix):\n",
    "    for row in matrix:\n",
    "        print(row)"
   ]
  },
  {
   "cell_type": "code",
   "execution_count": 25,
   "id": "cfc3d74a",
   "metadata": {},
   "outputs": [
    {
     "name": "stdout",
     "output_type": "stream",
     "text": [
      "[0.961468115178371, 0.5238109268488109, 0.17017830939202894, 0.47288797230362833]\n",
      "[0.33529215277442315, 0.1579825234684049, 0.06425204202236356, 0.3750782939796665]\n",
      "[0.8967424006840895, 0.8988568313124069, 0.13472553402587195, 0.8023583272239005]\n",
      "[0.8456193534888167, 0.864703784373158, 0.619238837367686, 0.7137003914891555]\n"
     ]
    }
   ],
   "source": [
    "matrix1 = createMatrix(4)\n",
    "printMatrix(matrix1)"
   ]
  },
  {
   "cell_type": "markdown",
   "id": "2d1e8a2e",
   "metadata": {},
   "source": [
    "## LU faktoryzacja metodą Doolitle'a"
   ]
  },
  {
   "cell_type": "code",
   "execution_count": 26,
   "id": "6b8f57c5",
   "metadata": {},
   "outputs": [],
   "source": [
    "from LU_factorization import doolittleLUFactorization, doolittleLUFactorizationWithOperationCounting"
   ]
  },
  {
   "cell_type": "markdown",
   "id": "5aa01190",
   "metadata": {},
   "source": [
    "## Blokowa LU factoryzacja - pseudokod albo wzór"
   ]
  },
  {
   "cell_type": "code",
   "execution_count": 27,
   "id": "4817398d",
   "metadata": {},
   "outputs": [],
   "source": [
    "from LU_factorization import LUBlockFactorization, LUBlockFactorizationWithOperationCounting\n"
   ]
  },
  {
   "cell_type": "markdown",
   "id": "5a538a43",
   "metadata": {},
   "source": [
    "## Porównanie metod faktoryzacji"
   ]
  },
  {
   "cell_type": "code",
   "execution_count": 28,
   "id": "66261893",
   "metadata": {},
   "outputs": [
    {
     "name": "stdout",
     "output_type": "stream",
     "text": [
      "[1.0, 0.0, 0.0, 0.0]\n",
      "[0.3487293519995927, 1.0, 0.0, 0.0]\n",
      "[0.9326803318045823, -16.621295846275856, 1.0, 0.0]\n",
      "[0.8795084726568783, -16.36604521138135, 9.555139939681014, 1.0]\n",
      "\n",
      "\n",
      "\n",
      "[0.961468115178371, 0.5238109268488109, 0.17017830939202894, 0.47288797230362833]\n",
      "[0.0, -0.02468572162188698, 0.00490587046369511, 0.21016837782982087]\n",
      "[0.0, 0.0, 0.057545496316754485, 3.854575801750693]\n",
      "[0.0, 0.0, 0.0, -33.093594607039904]\n"
     ]
    }
   ],
   "source": [
    "L, U = doolittleLUFactorization(matrix1)\n",
    "printMatrix(L)\n",
    "print('\\n\\n')\n",
    "printMatrix(U)"
   ]
  },
  {
   "cell_type": "code",
   "execution_count": 29,
   "id": "591cf64e",
   "metadata": {},
   "outputs": [
    {
     "name": "stdout",
     "output_type": "stream",
     "text": [
      "[1.0, 0.0, 0.0, 0.0]\n",
      "[0.3487293519995927, 1.0, 0.0, 0.0]\n",
      "[0.9326803318045823, -16.621295846275856, 1.0, 0.0]\n",
      "[0.8795084726568783, -16.36604521138136, 9.555139939681014, 1.0]\n",
      "\n",
      "\n",
      "\n",
      "[0.961468115178371, 0.5238109268488109, 0.17017830939202894, 0.47288797230362833]\n",
      "[0.0, -0.02468572162188698, 0.00490587046369511, 0.21016837782982087]\n",
      "[0.0, 0.0, 0.057545496316754485, 3.854575801750693]\n",
      "[0.0, 0.0, 0.0, -33.093594607039904]\n"
     ]
    }
   ],
   "source": [
    "L, U = LUBlockFactorization(matrix1)\n",
    "printMatrix(L)\n",
    "print('\\n\\n')\n",
    "printMatrix(U)"
   ]
  },
  {
   "cell_type": "markdown",
   "id": "e52b4ae6",
   "metadata": {},
   "source": [
    "## Test poprawności metod"
   ]
  },
  {
   "cell_type": "code",
   "execution_count": 30,
   "id": "51c100dc",
   "metadata": {},
   "outputs": [],
   "source": [
    "from multiplication import hybridMultiplication, sub"
   ]
  },
  {
   "cell_type": "code",
   "execution_count": 60,
   "id": "0408c945",
   "metadata": {},
   "outputs": [
    {
     "name": "stdout",
     "output_type": "stream",
     "text": [
      "3.885780586188048e-16\n",
      "1.6653345369377348e-16\n"
     ]
    }
   ],
   "source": [
    "L1, U1 = doolittleLUFactorization(matrix1)\n",
    "L2, U2 = LUBlockFactorization(matrix1)\n",
    "\n",
    "dolittleError = sum([sum(row) for row in sub(matrix1, hybridMultiplication(L1, U1, 2**4))])\n",
    "blockError = sum([sum(row) for row in sub(matrix1, hybridMultiplication(L2, U2, 2**4))])\n",
    "\n",
    "print(dolittleError)\n",
    "print(blockError)"
   ]
  },
  {
   "cell_type": "markdown",
   "id": "8530b606",
   "metadata": {},
   "source": [
    "## TODO Wartości własne i wyznacznik"
   ]
  },
  {
   "cell_type": "code",
   "execution_count": 12,
   "id": "c79b7092",
   "metadata": {},
   "outputs": [],
   "source": [
    "from LU_factorization import getEigenValues, calculateDeterminant"
   ]
  },
  {
   "cell_type": "code",
   "execution_count": 15,
   "id": "aeb300e7",
   "metadata": {},
   "outputs": [
    {
     "name": "stdout",
     "output_type": "stream",
     "text": [
      "[0.8468513429191376, 0.3826706203448009, -0.9318417131246695, 0.753715893132627]\n",
      "-0.22760516930750074\n"
     ]
    }
   ],
   "source": [
    "print(getEigenValues(U1))\n",
    "print(calculateDeterminant(U1))"
   ]
  },
  {
   "cell_type": "code",
   "execution_count": 16,
   "id": "94578d79",
   "metadata": {},
   "outputs": [
    {
     "name": "stdout",
     "output_type": "stream",
     "text": [
      "[0.8468513429191376, 0.3826706203448009, -0.931841713124669, 0.7537158931326271]\n",
      "-0.2276051693075007\n"
     ]
    }
   ],
   "source": [
    "print(getEigenValues(U2))\n",
    "print(calculateDeterminant(U2))"
   ]
  },
  {
   "cell_type": "code",
   "execution_count": 91,
   "id": "5ef1eca5",
   "metadata": {},
   "outputs": [],
   "source": [
    "matrices = [createMatrix(2**x) for x in range(1,10)]\n",
    "sizes = [x for x in range(1,10)]"
   ]
  },
  {
   "cell_type": "markdown",
   "id": "2bcdb038",
   "metadata": {},
   "source": [
    "## TODO Testy czasowe"
   ]
  },
  {
   "cell_type": "code",
   "execution_count": 87,
   "id": "d7f9b5c7",
   "metadata": {},
   "outputs": [],
   "source": [
    "import timeit\n",
    "def calculateRunningTime(L,U,matrix):\n",
    "    start = timeit.default_timer()\n",
    "    hybridMultiplication(L, U, 2**len(matrix))\n",
    "    stop = timeit.default_timer()\n",
    "    return (stop - start)\n"
   ]
  },
  {
   "cell_type": "code",
   "execution_count": 97,
   "id": "54bfc173",
   "metadata": {},
   "outputs": [],
   "source": [
    "matrixTimes1 = []\n",
    "matrixTimes2 = []\n",
    "\n",
    "for matrix in matrices:\n",
    "    L1, U1 = doolittleLUFactorization(matrix)\n",
    "    L2, U2 = LUBlockFactorization(matrix)\n",
    "\n",
    "    matrixTimes1.append(calculateRunningTime(L1, U1,matrix))\n",
    "    matrixTimes2.append(calculateRunningTime(L2, U2, matrix))"
   ]
  },
  {
   "cell_type": "code",
   "execution_count": 100,
   "id": "b46dddbe",
   "metadata": {},
   "outputs": [
    {
     "name": "stdout",
     "output_type": "stream",
     "text": [
      "[1.650000922381878e-05, 3.6499928683042526e-05, 0.00022780010476708412, 0.0013208999298512936, 0.0035838999319821596, 0.02633580006659031, 0.2133158000651747, 1.8778957999311388, 17.797181899892166]\n",
      "\n",
      "\n",
      "[1.1800089851021767e-05, 3.869994543492794e-05, 0.0002194000408053398, 0.0012564000207930803, 0.0036340001970529556, 0.02590889995917678, 0.20592520013451576, 1.8665472001302987, 15.437904100166634]\n"
     ]
    }
   ],
   "source": [
    "print(matrixTimes1)\n",
    "print('\\n')\n",
    "print(matrixTimes2)"
   ]
  },
  {
   "cell_type": "code",
   "execution_count": 92,
   "id": "471db364",
   "metadata": {},
   "outputs": [
    {
     "data": {
      "image/png": "[encoded data removed]",
      "text/plain": [
       "<Figure size 432x288 with 1 Axes>"
      ]
     },
     "metadata": {
      "needs_background": "light"
     },
     "output_type": "display_data"
    }
   ],
   "source": [
    "import matplotlib.pyplot as plt\n",
    "\n",
    "\n",
    "plt.scatter(sizes, matrixTimes1)\n",
    "plt.show()"
   ]
  },
  {
   "cell_type": "code",
   "execution_count": 95,
   "id": "fe0b1c88",
   "metadata": {},
   "outputs": [
    {
     "data": {
      "image/png": "[encoded data removed]",
      "text/plain": [
       "<Figure size 432x288 with 1 Axes>"
      ]
     },
     "metadata": {
      "needs_background": "light"
     },
     "output_type": "display_data"
    }
   ],
   "source": [
    "plt.scatter(sizes, matrixTimes2)\n",
    "plt.show()"
   ]
  },
  {
   "cell_type": "markdown",
   "id": "dcfed1d5",
   "metadata": {},
   "source": [
    "## TODO Ilość operacji"
   ]
  },
  {
   "cell_type": "code",
   "execution_count": 78,
   "id": "6be01608",
   "metadata": {},
   "outputs": [],
   "source": [
    "from multiplication import hybridMultiplicationWithOperationCounting, sub\n",
    "\n",
    "matrixOperations1 = []\n",
    "matrixOperations2 = []\n",
    "\n",
    "\n",
    "\n",
    "for matrix in matrices:\n",
    "    L1, U1 = doolittleLUFactorization(matrix)\n",
    "    L2, U2 = LUBlockFactorization(matrix)\n",
    "\n",
    "    matrixOperations1.append(hybridMultiplicationWithOperationCounting(L1, U1, 2**len(matrix))[1])\n",
    "    matrixOperations2.append(hybridMultiplicationWithOperationCounting(L2, U2, 2**len(matrix))[1])\n"
   ]
  },
  {
   "cell_type": "code",
   "execution_count": 77,
   "id": "c1c56a00",
   "metadata": {},
   "outputs": [
    {
     "name": "stdout",
     "output_type": "stream",
     "text": [
      "[16, 128, 1024, 8192, 65536, 524288, 4194304, 33554432, 268435456]\n",
      "[16, 128, 1024, 8192, 65536, 524288, 4194304, 33554432, 268435456]\n"
     ]
    }
   ],
   "source": [
    "print(matrixOperations1)\n",
    "print(matrixOperations2)"
   ]
  },
  {
   "cell_type": "code",
   "execution_count": 93,
   "id": "675f7fc7",
   "metadata": {},
   "outputs": [
    {
     "data": {
      "image/png": "[encoded data removed]",
      "text/plain": [
       "<Figure size 432x288 with 1 Axes>"
      ]
     },
     "metadata": {
      "needs_background": "light"
     },
     "output_type": "display_data"
    }
   ],
   "source": [
    "import matplotlib.pyplot as plt\n",
    "\n",
    "\n",
    "plt.scatter(sizes, matrixOperations1)\n",
    "plt.show()"
   ]
  },
  {
   "cell_type": "code",
   "execution_count": 94,
   "id": "57205ccd",
   "metadata": {},
   "outputs": [
    {
     "data": {
      "image/png": "[encoded data removed]",
      "text/plain": [
       "<Figure size 432x288 with 1 Axes>"
      ]
     },
     "metadata": {
      "needs_background": "light"
     },
     "output_type": "display_data"
    }
   ],
   "source": [
    "plt.scatter(sizes, matrixOperations2)\n",
    "plt.show()"
   ]
  },
  {
   "cell_type": "code",
   "execution_count": null,
   "id": "3a4dd92f",
   "metadata": {},
   "outputs": [],
   "source": []
  }
 ],
 "metadata": {
  "kernelspec": {
   "display_name": "Python 3 (ipykernel)",
   "language": "python",
   "name": "python3"
  },
  "language_info": {
   "codemirror_mode": {
    "name": "ipython",
    "version": 3
   },
   "file_extension": ".py",
   "mimetype": "text/x-python",
   "name": "python",
   "nbconvert_exporter": "python",
   "pygments_lexer": "ipython3",
   "version": "3.10.0"
  }
 },
 "nbformat": 4,
 "nbformat_minor": 5
}
