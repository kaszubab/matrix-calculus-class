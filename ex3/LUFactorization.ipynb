{
 "cells": [
  {
   "cell_type": "markdown",
   "id": "c5d39623",
   "metadata": {},
   "source": [
    "# Proszę zaimplementować rekurencyjną LU faktoryzację bazując na swoim rekurencyjnym mnożeniu i odwracaniu macierzy\n"
   ]
  },
  {
   "cell_type": "code",
   "execution_count": 2,
   "id": "d95bfbda",
   "metadata": {},
   "outputs": [],
   "source": [
    "import random\n"
   ]
  },
  {
   "cell_type": "markdown",
   "id": "9c7a4e5f",
   "metadata": {},
   "source": [
    "### Tworzenie macierzy"
   ]
  },
  {
   "cell_type": "code",
   "execution_count": 3,
   "id": "f55b203d",
   "metadata": {},
   "outputs": [],
   "source": [
    "def createMatrix(size):\n",
    "    matrix = []\n",
    "    for i in range(size):\n",
    "        matrix.append([])\n",
    "        for j in range(size):\n",
    "            matrix[i].append(random.uniform(0, 1))\n",
    "    return matrix"
   ]
  },
  {
   "cell_type": "markdown",
   "id": "564e66e9",
   "metadata": {},
   "source": [
    "### Wyświetlenie macierzy"
   ]
  },
  {
   "cell_type": "code",
   "execution_count": 4,
   "id": "babc317e",
   "metadata": {},
   "outputs": [],
   "source": [
    "def printMatrix(matrix):\n",
    "    for row in matrix:\n",
    "        print(row)"
   ]
  },
  {
   "cell_type": "code",
   "execution_count": 5,
   "id": "cfc3d74a",
   "metadata": {},
   "outputs": [
    {
     "name": "stdout",
     "output_type": "stream",
     "text": [
      "[0.6775533526765553, 0.4162756957391116, 0.5094071715227771, 0.9108202794273007]\n",
      "[0.7644571441456138, 0.8824503679873843, 0.7466782421604197, 0.9042249696544066]\n",
      "[0.38611535867329005, 0.26347956677855244, 0.67575928857797, 0.7129843397298221]\n",
      "[0.288529861635193, 0.46916237923096893, 0.997908088801734, 0.6927117145464808]\n"
     ]
    }
   ],
   "source": [
    "matrix1 = createMatrix(4)\n",
    "printMatrix(matrix1)"
   ]
  },
  {
   "cell_type": "markdown",
   "id": "2d1e8a2e",
   "metadata": {},
   "source": [
    "## LU faktoryzacja metodą Doolitle'a"
   ]
  },
  {
   "cell_type": "code",
   "execution_count": 6,
   "id": "6b8f57c5",
   "metadata": {},
   "outputs": [],
   "source": [
    "from LU_factorization import doolittleLUFactorization, doolittleLUFactorizationWithOperationCounting"
   ]
  },
  {
   "cell_type": "markdown",
   "id": "5aa01190",
   "metadata": {},
   "source": [
    "## Blokowa LU factoryzacja - pseudokod albo wzór"
   ]
  },
  {
   "cell_type": "code",
   "execution_count": 7,
   "id": "4817398d",
   "metadata": {},
   "outputs": [],
   "source": [
    "from LU_factorization import LUBlockFactorization, LUBlockFactorizationWithOperationCounting\n"
   ]
  },
  {
   "cell_type": "markdown",
   "id": "5a538a43",
   "metadata": {},
   "source": [
    "## Porównanie metod faktoryzacji"
   ]
  },
  {
   "cell_type": "code",
   "execution_count": 8,
   "id": "66261893",
   "metadata": {},
   "outputs": [
    {
     "name": "stdout",
     "output_type": "stream",
     "text": [
      "[1.0, 0.0, 0.0, 0.0]\n",
      "[1.1282611784382153, 1.0, 0.0, 0.0]\n",
      "[0.5698670918651783, 0.0636115542562703, 1.0, 0.0]\n",
      "[0.4258407998357717, 0.7071401771772233, 1.7606173514338999, 1.0]\n",
      "\n",
      "\n",
      "\n",
      "[0.6775533526765553, 0.4162756957391116, 0.5094071715227771, 0.9108202794273007]\n",
      "[0.0, 0.4127826609575863, 0.17193390651325302, -0.12341819215766414]\n",
      "[0.0, 0.0, 0.37452792214435865, 0.20178865890740527]\n",
      "[0.0, 0.0, 0.0, 0.036848626322826816]\n"
     ]
    }
   ],
   "source": [
    "L, U = doolittleLUFactorization(matrix1)\n",
    "printMatrix(L)\n",
    "print('\\n\\n')\n",
    "printMatrix(U)"
   ]
  },
  {
   "cell_type": "code",
   "execution_count": 9,
   "id": "591cf64e",
   "metadata": {},
   "outputs": [
    {
     "name": "stdout",
     "output_type": "stream",
     "text": [
      "[1.0, 0.0, 0.0, 0.0]\n",
      "[1.1282611784382153, 1.0, 0.0, 0.0]\n",
      "[0.5698670918651783, 0.0636115542562703, 1.0, 0.0]\n",
      "[0.4258407998357717, 0.7071401771772233, 1.7606173514338999, 1.0]\n",
      "\n",
      "\n",
      "\n",
      "[0.6775533526765553, 0.4162756957391116, 0.5094071715227771, 0.9108202794273007]\n",
      "[0.0, 0.4127826609575863, 0.17193390651325302, -0.12341819215766414]\n",
      "[0.0, 0.0, 0.37452792214435865, 0.20178865890740527]\n",
      "[0.0, 0.0, 0.0, 0.03684862632282676]\n"
     ]
    }
   ],
   "source": [
    "L, U = LUBlockFactorization(matrix1)\n",
    "printMatrix(L)\n",
    "print('\\n\\n')\n",
    "printMatrix(U)"
   ]
  },
  {
   "cell_type": "markdown",
   "id": "e52b4ae6",
   "metadata": {},
   "source": [
    "## Test poprawności metod"
   ]
  },
  {
   "cell_type": "code",
   "execution_count": 10,
   "id": "51c100dc",
   "metadata": {},
   "outputs": [],
   "source": [
    "from multiplication import hybridMultiplication, sub"
   ]
  },
  {
   "cell_type": "code",
   "execution_count": 11,
   "id": "0408c945",
   "metadata": {},
   "outputs": [
    {
     "name": "stdout",
     "output_type": "stream",
     "text": [
      "-1.1102230246251565e-16\n",
      "0.0\n"
     ]
    }
   ],
   "source": [
    "L1, U1 = doolittleLUFactorization(matrix1)\n",
    "L2, U2 = LUBlockFactorization(matrix1)\n",
    "\n",
    "dolittleError = sum([sum(row) for row in sub(matrix1, hybridMultiplication(L1, U1, 2**4))])\n",
    "blockError = sum([sum(row) for row in sub(matrix1, hybridMultiplication(L2, U2, 2**4))])\n",
    "\n",
    "print(dolittleError)\n",
    "print(blockError)"
   ]
  },
  {
   "cell_type": "markdown",
   "id": "8530b606",
   "metadata": {},
   "source": [
    "## TODO Wartości własne i wyznacznik"
   ]
  },
  {
   "cell_type": "code",
   "execution_count": 12,
   "id": "c79b7092",
   "metadata": {},
   "outputs": [],
   "source": [
    "from LU_factorization import getEigenValues, calculateDeterminant"
   ]
  },
  {
   "cell_type": "code",
   "execution_count": 13,
   "id": "aeb300e7",
   "metadata": {},
   "outputs": [
    {
     "name": "stdout",
     "output_type": "stream",
     "text": [
      "[0.6775533526765553, 0.4127826609575863, 0.37452792214435865, 0.036848626322826816]\n",
      "0.003859850186291881\n"
     ]
    }
   ],
   "source": [
    "print(getEigenValues(U1))\n",
    "print(calculateDeterminant(U1))"
   ]
  },
  {
   "cell_type": "code",
   "execution_count": 14,
   "id": "94578d79",
   "metadata": {},
   "outputs": [
    {
     "name": "stdout",
     "output_type": "stream",
     "text": [
      "[0.6775533526765553, 0.4127826609575863, 0.37452792214435865, 0.03684862632282676]\n",
      "0.0038598501862918753\n"
     ]
    }
   ],
   "source": [
    "print(getEigenValues(U2))\n",
    "print(calculateDeterminant(U2))"
   ]
  },
  {
   "cell_type": "code",
   "execution_count": 15,
   "id": "5ef1eca5",
   "metadata": {},
   "outputs": [],
   "source": [
    "matrices = [createMatrix(2**x) for x in range(1,10)]\n",
    "sizes = [x for x in range(1,10)]"
   ]
  },
  {
   "cell_type": "markdown",
   "id": "2bcdb038",
   "metadata": {},
   "source": [
    "## TODO Testy czasowe"
   ]
  },
  {
   "cell_type": "code",
   "execution_count": 17,
   "id": "d7f9b5c7",
   "metadata": {},
   "outputs": [],
   "source": [
    "import timeit\n",
    "def calculateRunningTime(funct,matrix):\n",
    "    start = timeit.default_timer()\n",
    "    funct(matrix)\n",
    "    stop = timeit.default_timer()\n",
    "    return (stop - start)\n"
   ]
  },
  {
   "cell_type": "code",
   "execution_count": 18,
   "id": "54bfc173",
   "metadata": {},
   "outputs": [],
   "source": [
    "matrixTimes1 = []\n",
    "matrixTimes2 = []\n",
    "\n",
    "for matrix in matrices:\n",
    "    matrixTimes1.append(calculateRunningTime(doolittleLUFactorization, matrix))\n",
    "    matrixTimes2.append(calculateRunningTime(LUBlockFactorization, matrix))"
   ]
  },
  {
   "cell_type": "code",
   "execution_count": 19,
   "id": "b46dddbe",
   "metadata": {},
   "outputs": [
    {
     "name": "stdout",
     "output_type": "stream",
     "text": [
      "[2.0899809896945953e-05, 4.619988612830639e-05, 0.00014999997802078724, 0.0002902999985963106, 0.0017246000934392214, 0.010740000056102872, 0.07108470005914569, 0.6647805999964476, 6.102946100058034]\n",
      "\n",
      "\n",
      "[1.4299992471933365e-05, 0.00021199998445808887, 0.0008151999209076166, 0.003428099909797311, 0.0111134999897331, 0.05542999994941056, 0.3445794000290334, 2.716000000014901, 19.41732469992712]\n"
     ]
    }
   ],
   "source": [
    "print(matrixTimes1)\n",
    "print('\\n')\n",
    "print(matrixTimes2)"
   ]
  },
  {
   "cell_type": "code",
   "execution_count": 20,
   "id": "471db364",
   "metadata": {},
   "outputs": [
    {
     "data": {
      "image/png": "[encoded data removed]",
      "text/plain": [
       "<Figure size 432x288 with 1 Axes>"
      ]
     },
     "metadata": {
      "needs_background": "light"
     },
     "output_type": "display_data"
    }
   ],
   "source": [
    "import matplotlib.pyplot as plt\n",
    "\n",
    "\n",
    "plt.scatter(sizes, matrixTimes1)\n",
    "plt.show()"
   ]
  },
  {
   "cell_type": "code",
   "execution_count": 21,
   "id": "fe0b1c88",
   "metadata": {},
   "outputs": [
    {
     "data": {
      "image/png": "[encoded data removed]",
      "text/plain": [
       "<Figure size 432x288 with 1 Axes>"
      ]
     },
     "metadata": {
      "needs_background": "light"
     },
     "output_type": "display_data"
    }
   ],
   "source": [
    "plt.scatter(sizes, matrixTimes2)\n",
    "plt.show()"
   ]
  },
  {
   "cell_type": "markdown",
   "id": "dcfed1d5",
   "metadata": {},
   "source": [
    "## TODO Ilość operacji"
   ]
  },
  {
   "cell_type": "code",
   "execution_count": 22,
   "id": "6be01608",
   "metadata": {},
   "outputs": [],
   "source": [
    "from multiplication import hybridMultiplicationWithOperationCounting, sub\n",
    "\n",
    "matrixOperations1 = []\n",
    "matrixOperations2 = []\n",
    "\n",
    "\n",
    "\n",
    "for matrix in matrices:\n",
    "    L1, U1, fpOperations1 = doolittleLUFactorizationWithOperationCounting(matrix)\n",
    "    L2, U2, fpOperations2 = LUBlockFactorizationWithOperationCounting(matrix)\n",
    "\n",
    "    matrixOperations1.append(fpOperations1)\n",
    "    matrixOperations2.append(fpOperations2)\n"
   ]
  },
  {
   "cell_type": "code",
   "execution_count": 23,
   "id": "c1c56a00",
   "metadata": {},
   "outputs": [
    {
     "name": "stdout",
     "output_type": "stream",
     "text": [
      "[3, 34, 308, 2600, 21328, 172704, 1389888, 11152000, 89347328]\n",
      "[3, 122, 1300, 11208, 91856, 719008, 5488832, 40475392, 291857024]\n"
     ]
    }
   ],
   "source": [
    "print(matrixOperations1)\n",
    "print(matrixOperations2)"
   ]
  },
  {
   "cell_type": "code",
   "execution_count": 24,
   "id": "675f7fc7",
   "metadata": {},
   "outputs": [
    {
     "data": {
      "image/png": "[encoded data removed]",
      "text/plain": [
       "<Figure size 432x288 with 1 Axes>"
      ]
     },
     "metadata": {
      "needs_background": "light"
     },
     "output_type": "display_data"
    }
   ],
   "source": [
    "import matplotlib.pyplot as plt\n",
    "\n",
    "\n",
    "plt.scatter(sizes, matrixOperations1)\n",
    "plt.show()"
   ]
  },
  {
   "cell_type": "code",
   "execution_count": 25,
   "id": "57205ccd",
   "metadata": {},
   "outputs": [
    {
     "data": {
      "image/png": "[encoded data removed]",
      "text/plain": [
       "<Figure size 432x288 with 1 Axes>"
      ]
     },
     "metadata": {
      "needs_background": "light"
     },
     "output_type": "display_data"
    }
   ],
   "source": [
    "plt.scatter(sizes, matrixOperations2)\n",
    "plt.show()"
   ]
  },
  {
   "cell_type": "code",
   "execution_count": null,
   "id": "3a4dd92f",
   "metadata": {},
   "outputs": [],
   "source": []
  }
 ],
 "metadata": {
  "kernelspec": {
   "display_name": "Python 3 (ipykernel)",
   "language": "python",
   "name": "python3"
  },
  "language_info": {
   "codemirror_mode": {
    "name": "ipython",
    "version": 3
   },
   "file_extension": ".py",
   "mimetype": "text/x-python",
   "name": "python",
   "nbconvert_exporter": "python",
   "pygments_lexer": "ipython3",
   "version": "3.10.0"
  }
 },
 "nbformat": 4,
 "nbformat_minor": 5
}
