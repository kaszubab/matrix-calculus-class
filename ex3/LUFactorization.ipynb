{
 "cells": [
  {
   "cell_type": "markdown",
   "id": "c5d39623",
   "metadata": {},
   "source": [
    "# Proszę zaimplementować rekurencyjną LU faktoryzację bazując na swoim rekurencyjnym mnożeniu i odwracaniu macierzy\n"
   ]
  },
  {
   "cell_type": "code",
   "execution_count": 1,
   "id": "d95bfbda",
   "metadata": {},
   "outputs": [],
   "source": [
    "import random\n"
   ]
  },
  {
   "cell_type": "markdown",
   "id": "9c7a4e5f",
   "metadata": {},
   "source": [
    "### Tworzenie macierzy"
   ]
  },
  {
   "cell_type": "code",
   "execution_count": 2,
   "id": "f55b203d",
   "metadata": {},
   "outputs": [],
   "source": [
    "def createMatrix(size):\n",
    "    matrix = []\n",
    "    for i in range(size):\n",
    "        matrix.append([])\n",
    "        for j in range(size):\n",
    "            matrix[i].append(random.uniform(0, 1))\n",
    "    return matrix"
   ]
  },
  {
   "cell_type": "markdown",
   "id": "564e66e9",
   "metadata": {},
   "source": [
    "### Wyświetlenie macierzy"
   ]
  },
  {
   "cell_type": "code",
   "execution_count": 3,
   "id": "babc317e",
   "metadata": {},
   "outputs": [],
   "source": [
    "def printMatrix(matrix):\n",
    "    for row in matrix:\n",
    "        print(row)"
   ]
  },
  {
   "cell_type": "code",
   "execution_count": 4,
   "id": "cfc3d74a",
   "metadata": {},
   "outputs": [
    {
     "name": "stdout",
     "output_type": "stream",
     "text": [
      "[0.16126005648870045, 0.2497789266879168, 0.1623208730375859, 0.4608279470827492]\n",
      "[0.05967271192874235, 0.04504973568156201, 0.8836797005812337, 0.5534765250012055]\n",
      "[0.8361585377432628, 0.16914286312554538, 0.8116217641715747, 0.017604105288181904]\n",
      "[0.5674671462034744, 0.9412267631919919, 0.6472712845088986, 0.10185164102266464]\n"
     ]
    }
   ],
   "source": [
    "matrix1 = createMatrix(4)\n",
    "printMatrix(matrix1)"
   ]
  },
  {
   "cell_type": "markdown",
   "id": "2d1e8a2e",
   "metadata": {},
   "source": [
    "## LU faktoryzacja metodą Doolitle'a"
   ]
  },
  {
   "cell_type": "code",
   "execution_count": 5,
   "id": "6b8f57c5",
   "metadata": {},
   "outputs": [],
   "source": [
    "from LU_factorization import doolittleLUFactorization, doolittleLUFactorizationWithOperationCounting"
   ]
  },
  {
   "cell_type": "markdown",
   "id": "5aa01190",
   "metadata": {},
   "source": [
    "## Blokowa LU factoryzacja - pseudokod albo wzór"
   ]
  },
  {
   "cell_type": "code",
   "execution_count": 6,
   "id": "4817398d",
   "metadata": {},
   "outputs": [],
   "source": [
    "from LU_factorization import LUBlockFactorization, LUBlockFactorizationWithOperationCounting\n"
   ]
  },
  {
   "cell_type": "markdown",
   "id": "5a538a43",
   "metadata": {},
   "source": [
    "## Porównanie metod faktoryzacji"
   ]
  },
  {
   "cell_type": "code",
   "execution_count": 7,
   "id": "66261893",
   "metadata": {},
   "outputs": [
    {
     "name": "stdout",
     "output_type": "stream",
     "text": [
      "[1.0, 0.0, 0.0, 0.0]\n",
      "[0.37004025192638845, 1.0, 0.0, 0.0]\n",
      "[5.185155927325702, 23.76603973250693, 1.0, 0.0]\n",
      "[3.518956637865478, -1.3142147422033565, -0.05909365665444488, 1.0]\n",
      "\n",
      "\n",
      "\n",
      "[0.16126005648870045, 0.2497789266879168, 0.1623208730375859, 0.4608279470827492]\n",
      "[0.0, -0.04737852127593763, 0.8236144438294941, 0.38295163536798454]\n",
      "[0.0, 0.0, -19.604090869106297, -11.473104437789296]\n",
      "[0.0, 0.0, 0.0, -1.6944889319339156]\n"
     ]
    }
   ],
   "source": [
    "L, U = doolittleLUFactorization(matrix1)\n",
    "printMatrix(L)\n",
    "print('\\n\\n')\n",
    "printMatrix(U)"
   ]
  },
  {
   "cell_type": "code",
   "execution_count": 8,
   "id": "591cf64e",
   "metadata": {},
   "outputs": [
    {
     "name": "stdout",
     "output_type": "stream",
     "text": [
      "[1.0, 0.0, 0.0, 0.0]\n",
      "[0.37004025192638845, 1.0, 0.0, 0.0]\n",
      "[5.185155927325702, 23.766039732506925, 1.0, 0.0]\n",
      "[3.518956637865478, -1.3142147422033545, -0.05909365665444482, 1.0]\n",
      "\n",
      "\n",
      "\n",
      "[0.16126005648870045, 0.2497789266879168, 0.1623208730375859, 0.4608279470827492]\n",
      "[0.0, -0.04737852127593763, 0.8236144438294941, 0.38295163536798454]\n",
      "[0.0, 0.0, -19.604090869106294, -11.473104437789294]\n",
      "[0.0, 0.0, 0.0, -1.6944889319339156]\n"
     ]
    }
   ],
   "source": [
    "L, U = LUBlockFactorization(matrix1)\n",
    "printMatrix(L)\n",
    "print('\\n\\n')\n",
    "printMatrix(U)"
   ]
  },
  {
   "cell_type": "markdown",
   "id": "e52b4ae6",
   "metadata": {},
   "source": [
    "## Test poprawności metod"
   ]
  },
  {
   "cell_type": "code",
   "execution_count": 9,
   "id": "51c100dc",
   "metadata": {},
   "outputs": [],
   "source": [
    "from multiplication import hybridMultiplication, sub"
   ]
  },
  {
   "cell_type": "code",
   "execution_count": 10,
   "id": "0408c945",
   "metadata": {},
   "outputs": [
    {
     "name": "stdout",
     "output_type": "stream",
     "text": [
      "-1.887379141862766e-15\n",
      "-1.9984014443252818e-15\n"
     ]
    }
   ],
   "source": [
    "L1, U1 = doolittleLUFactorization(matrix1)\n",
    "L2, U2 = LUBlockFactorization(matrix1)\n",
    "\n",
    "dolittleError = sum([sum(row) for row in sub(matrix1, hybridMultiplication(L1, U1, 2**4))])\n",
    "blockError = sum([sum(row) for row in sub(matrix1, hybridMultiplication(L2, U2, 2**4))])\n",
    "\n",
    "print(dolittleError)\n",
    "print(blockError)"
   ]
  },
  {
   "cell_type": "markdown",
   "id": "8530b606",
   "metadata": {},
   "source": [
    "## TODO Wartości własne i wyznacznik"
   ]
  },
  {
   "cell_type": "code",
   "execution_count": 11,
   "id": "5ef1eca5",
   "metadata": {},
   "outputs": [],
   "source": [
    "matrices = [createMatrix(2**x) for x in range(1,10)]\n",
    "sizes = [x for x in range(1,10)]"
   ]
  },
  {
   "cell_type": "code",
   "execution_count": 12,
   "id": "c79b7092",
   "metadata": {},
   "outputs": [],
   "source": [
    "from LU_factorization import getEigenValues, calculateDeterminant"
   ]
  },
  {
   "cell_type": "code",
   "execution_count": 13,
   "id": "54dd0d04",
   "metadata": {},
   "outputs": [],
   "source": [
    "matrixEgienL = []\n",
    "matrixDeterminantL = []\n",
    "\n",
    "matrixEgienU = []\n",
    "matrixDeterminantU = []\n",
    "\n",
    "for matrix in matrices:\n",
    "    L, U = LUBlockFactorization(matrix)\n",
    "    matrixEgienL.append(getEigenValues(L))\n",
    "    matrixDeterminantL.append(calculateDeterminant(L))\n",
    "    matrixEgienU.append(getEigenValues(U))\n",
    "    matrixDeterminantU.append(calculateDeterminant(U))"
   ]
  },
  {
   "cell_type": "code",
   "execution_count": 14,
   "id": "356c6fc3",
   "metadata": {},
   "outputs": [
    {
     "name": "stdout",
     "output_type": "stream",
     "text": [
      "[1.0, 1.0, 1.0, 1.0]\n",
      "1.0\n",
      "[0.4458269435738179, 0.40233076684252367, -1.7226179858179895, 0.08293860600888196]\n",
      "-0.02562685228443868\n"
     ]
    }
   ],
   "source": [
    "print(matrixEgienL[1])\n",
    "print(matrixDeterminantL[1])\n",
    "print(matrixEgienU[1])\n",
    "print(matrixDeterminantU[1])"
   ]
  },
  {
   "cell_type": "code",
   "execution_count": 15,
   "id": "aeb300e7",
   "metadata": {},
   "outputs": [
    {
     "name": "stdout",
     "output_type": "stream",
     "text": [
      "[0.16126005648870045, -0.04737852127593763, -19.604090869106297, -1.6944889319339156]\n",
      "-0.25380124773684504\n"
     ]
    }
   ],
   "source": [
    "print(getEigenValues(U1))\n",
    "print(calculateDeterminant(U1))"
   ]
  },
  {
   "cell_type": "code",
   "execution_count": 16,
   "id": "94578d79",
   "metadata": {},
   "outputs": [
    {
     "name": "stdout",
     "output_type": "stream",
     "text": [
      "[0.16126005648870045, -0.04737852127593763, -19.604090869106294, -1.6944889319339156]\n",
      "-0.25380124773684504\n"
     ]
    }
   ],
   "source": [
    "print(getEigenValues(U2))\n",
    "print(calculateDeterminant(U2))"
   ]
  },
  {
   "cell_type": "markdown",
   "id": "2bcdb038",
   "metadata": {},
   "source": [
    "## TODO Testy czasowe"
   ]
  },
  {
   "cell_type": "code",
   "execution_count": 17,
   "id": "d7f9b5c7",
   "metadata": {},
   "outputs": [],
   "source": [
    "import timeit\n",
    "def calculateRunningTime(funct,matrix):\n",
    "    start = timeit.default_timer()\n",
    "    funct(matrix)\n",
    "    stop = timeit.default_timer()\n",
    "    return (stop - start)\n"
   ]
  },
  {
   "cell_type": "code",
   "execution_count": 18,
   "id": "54bfc173",
   "metadata": {},
   "outputs": [],
   "source": [
    "matrixTimes1 = []\n",
    "matrixTimes2 = []\n",
    "\n",
    "for matrix in matrices:\n",
    "    matrixTimes1.append(calculateRunningTime(doolittleLUFactorization, matrix))\n",
    "    matrixTimes2.append(calculateRunningTime(LUBlockFactorization, matrix))"
   ]
  },
  {
   "cell_type": "code",
   "execution_count": 19,
   "id": "b46dddbe",
   "metadata": {},
   "outputs": [
    {
     "name": "stdout",
     "output_type": "stream",
     "text": [
      "[1.460000203223899e-05, 1.7799997294787318e-05, 5.980000423733145e-05, 0.00025800000003073364, 0.001563899997563567, 0.010822199998074211, 0.07623900000180583, 0.5550072999976692, 5.723519299994223]\n",
      "\n",
      "\n",
      "[9.000003046821803e-06, 0.00017020000086631626, 0.0003811000060522929, 0.002123100006429013, 0.0132826000044588, 0.05093029999989085, 0.3264234000016586, 2.512149900001532, 19.20730960000219]\n"
     ]
    }
   ],
   "source": [
    "print(matrixTimes1)\n",
    "print('\\n')\n",
    "print(matrixTimes2)"
   ]
  },
  {
   "cell_type": "code",
   "execution_count": 20,
   "id": "471db364",
   "metadata": {},
   "outputs": [
    {
     "data": {
      "image/png": "[encoded data removed]",
      "text/plain": [
       "<Figure size 432x288 with 1 Axes>"
      ]
     },
     "metadata": {
      "needs_background": "light"
     },
     "output_type": "display_data"
    }
   ],
   "source": [
    "import matplotlib.pyplot as plt\n",
    "\n",
    "\n",
    "plt.scatter(sizes, matrixTimes1)\n",
    "plt.show()"
   ]
  },
  {
   "cell_type": "code",
   "execution_count": 21,
   "id": "fe0b1c88",
   "metadata": {},
   "outputs": [
    {
     "data": {
      "image/png": "[encoded data removed]",
      "text/plain": [
       "<Figure size 432x288 with 1 Axes>"
      ]
     },
     "metadata": {
      "needs_background": "light"
     },
     "output_type": "display_data"
    }
   ],
   "source": [
    "plt.scatter(sizes, matrixTimes2)\n",
    "plt.show()"
   ]
  },
  {
   "cell_type": "markdown",
   "id": "dcfed1d5",
   "metadata": {},
   "source": [
    "## TODO Ilość operacji"
   ]
  },
  {
   "cell_type": "code",
   "execution_count": 22,
   "id": "6be01608",
   "metadata": {},
   "outputs": [],
   "source": [
    "from multiplication import hybridMultiplicationWithOperationCounting, sub\n",
    "\n",
    "matrixOperations1 = []\n",
    "matrixOperations2 = []\n",
    "\n",
    "\n",
    "\n",
    "for matrix in matrices:\n",
    "    L1, U1, fpOperations1 = doolittleLUFactorizationWithOperationCounting(matrix)\n",
    "    L2, U2, fpOperations2 = LUBlockFactorizationWithOperationCounting(matrix)\n",
    "\n",
    "    matrixOperations1.append(fpOperations1)\n",
    "    matrixOperations2.append(fpOperations2)\n"
   ]
  },
  {
   "cell_type": "code",
   "execution_count": 23,
   "id": "c1c56a00",
   "metadata": {},
   "outputs": [
    {
     "name": "stdout",
     "output_type": "stream",
     "text": [
      "[3, 34, 308, 2600, 21328, 172704, 1389888, 11152000, 89347328]\n",
      "[3, 122, 1300, 11208, 91856, 719008, 5488832, 40475392, 291857024]\n"
     ]
    }
   ],
   "source": [
    "print(matrixOperations1)\n",
    "print(matrixOperations2)"
   ]
  },
  {
   "cell_type": "code",
   "execution_count": 24,
   "id": "675f7fc7",
   "metadata": {},
   "outputs": [
    {
     "data": {
      "image/png": "[encoded data removed]",
      "text/plain": [
       "<Figure size 432x288 with 1 Axes>"
      ]
     },
     "metadata": {
      "needs_background": "light"
     },
     "output_type": "display_data"
    }
   ],
   "source": [
    "import matplotlib.pyplot as plt\n",
    "\n",
    "\n",
    "plt.scatter(sizes, matrixOperations1)\n",
    "plt.show()"
   ]
  },
  {
   "cell_type": "code",
   "execution_count": 25,
   "id": "57205ccd",
   "metadata": {},
   "outputs": [
    {
     "data": {
      "image/png": "[encoded data removed]",
      "text/plain": [
       "<Figure size 432x288 with 1 Axes>"
      ]
     },
     "metadata": {
      "needs_background": "light"
     },
     "output_type": "display_data"
    }
   ],
   "source": [
    "plt.scatter(sizes, matrixOperations2)\n",
    "plt.show()"
   ]
  },
  {
   "cell_type": "code",
   "execution_count": 26,
   "id": "6ff58ffd",
   "metadata": {},
   "outputs": [],
   "source": [
    "for idx, matrix in enumerate(matrices, start=1):\n",
    "    with open(f'matrices/{idx}.txt', 'a+') as f:\n",
    "        for row in matrix:\n",
    "            f.write(\"%s\\n\" % str(row)[1:-1])"
   ]
  },
  {
   "cell_type": "code",
   "execution_count": 36,
   "id": "2932fdc4",
   "metadata": {},
   "outputs": [
    {
     "name": "stdout",
     "output_type": "stream",
     "text": [
      "9\n"
     ]
    }
   ],
   "source": [
    "print(len(matrixEgienL))"
   ]
  },
  {
   "cell_type": "code",
   "execution_count": 37,
   "id": "f8b2a469",
   "metadata": {},
   "outputs": [],
   "source": [
    "for i in range(0,9):\n",
    "\n",
    "    with open(f'matrices/c/{i+1}c.txt', 'a+') as f:\n",
    "        f.write(\"%s\\n\" % str(matrixEgienL[i])[1:-1])\n",
    "        f.write(\"%s\\n\" % str(matrixDeterminantL[i]))\n",
    "        f.write(\"%s\\n\" % str(matrixEgienU[i])[1:-1])\n",
    "        f.write(\"%s\\n\" % str(matrixDeterminantU[i]))"
   ]
  },
  {
   "cell_type": "code",
   "execution_count": null,
   "id": "ad0b088a",
   "metadata": {},
   "outputs": [],
   "source": []
  }
 ],
 "metadata": {
  "kernelspec": {
   "display_name": "Python 3 (ipykernel)",
   "language": "python",
   "name": "python3"
  },
  "language_info": {
   "codemirror_mode": {
    "name": "ipython",
    "version": 3
   },
   "file_extension": ".py",
   "mimetype": "text/x-python",
   "name": "python",
   "nbconvert_exporter": "python",
   "pygments_lexer": "ipython3",
   "version": "3.10.0"
  }
 },
 "nbformat": 4,
 "nbformat_minor": 5
}
