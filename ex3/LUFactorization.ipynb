{
 "cells": [
  {
   "cell_type": "markdown",
   "id": "c5d39623",
   "metadata": {},
   "source": [
    "# PProszę zaimplementować rekurencyjną LU faktoryzację bazując na swoim rekurencyjnym mnożeniu i odwracaniu macierzy\n"
   ]
  },
  {
   "cell_type": "code",
   "execution_count": 1,
   "id": "d95bfbda",
   "metadata": {},
   "outputs": [],
   "source": [
    "import random"
   ]
  },
  {
   "cell_type": "markdown",
   "id": "9c7a4e5f",
   "metadata": {},
   "source": [
    "### Tworzenie macierzy"
   ]
  },
  {
   "cell_type": "code",
   "execution_count": 2,
   "id": "f55b203d",
   "metadata": {},
   "outputs": [],
   "source": [
    "def createMatrix(size):\n",
    "    matrix = []\n",
    "    for i in range(size):\n",
    "        matrix.append([])\n",
    "        for j in range(size):\n",
    "            matrix[i].append(random.uniform(0, 1))\n",
    "    return matrix"
   ]
  },
  {
   "cell_type": "markdown",
   "id": "564e66e9",
   "metadata": {},
   "source": [
    "### Wyświetlenie macierzy"
   ]
  },
  {
   "cell_type": "code",
   "execution_count": 3,
   "id": "babc317e",
   "metadata": {},
   "outputs": [],
   "source": [
    "def printMatrix(matrix):\n",
    "    for row in matrix:\n",
    "        print(row)"
   ]
  },
  {
   "cell_type": "code",
   "execution_count": 4,
   "id": "cfc3d74a",
   "metadata": {},
   "outputs": [
    {
     "name": "stdout",
     "output_type": "stream",
     "text": [
      "[0.8468513429191376, 0.7927510780267659, 0.29924653070711893, 0.03767968082265849]\n",
      "[0.4255732052069189, 0.781056500024873, 0.9882647005727082, 0.27780078646787965]\n",
      "[0.24569083135081138, 0.8519986676892094, 0.5168943346835395, 0.37530046778349846]\n",
      "[0.25221553345433934, 0.16203338603761153, 0.3492340354131038, 0.7403905337938049]\n"
     ]
    }
   ],
   "source": [
    "matrix1 = createMatrix(4)\n",
    "printMatrix(matrix1)"
   ]
  },
  {
   "cell_type": "markdown",
   "id": "2d1e8a2e",
   "metadata": {},
   "source": [
    "## LU faktoryzacja metodą Doolitle'a"
   ]
  },
  {
   "cell_type": "code",
   "execution_count": 5,
   "id": "6b8f57c5",
   "metadata": {},
   "outputs": [],
   "source": [
    "from LU_factorization import doolittleLUFactorization, doolittleLUFactorizationWithOperationCounting"
   ]
  },
  {
   "cell_type": "markdown",
   "id": "5aa01190",
   "metadata": {},
   "source": [
    "## Blokowa LU factoryzacja - pseudokod albo wzór"
   ]
  },
  {
   "cell_type": "code",
   "execution_count": 6,
   "id": "4817398d",
   "metadata": {},
   "outputs": [],
   "source": [
    "from LU_factorization import LUBlockFactorization, LUBlockFactorizationWithOperationCounting\n"
   ]
  },
  {
   "cell_type": "markdown",
   "id": "5a538a43",
   "metadata": {},
   "source": [
    "## Porównanie metod faktoryzacji"
   ]
  },
  {
   "cell_type": "code",
   "execution_count": 7,
   "id": "66261893",
   "metadata": {},
   "outputs": [
    {
     "name": "stdout",
     "output_type": "stream",
     "text": [
      "[1.0, 0.0, 0.0, 0.0]\n",
      "[0.5025359040465679, 1.0, 0.0, 0.0]\n",
      "[0.2901227392565774, 1.625428032136437, 1.0, 0.0]\n",
      "[0.29782739977118083, -0.19355968882628377, -0.4531783711462351, 1.0]\n",
      "\n",
      "\n",
      "\n",
      "[0.8468513429191376, 0.7927510780267659, 0.29924653070711893, 0.03767968082265849]\n",
      "[0.0, 0.3826706203448009, 0.8378825747310071, 0.25886539400147884]\n",
      "[0.0, 0.0, -0.9318417131246695, -0.0563983323911319]\n",
      "[0.0, 0.0, 0.0, 0.753715893132627]\n"
     ]
    }
   ],
   "source": [
    "L, U = doolittleLUFactorization(matrix1)\n",
    "printMatrix(L)\n",
    "print('\\n\\n')\n",
    "printMatrix(U)"
   ]
  },
  {
   "cell_type": "code",
   "execution_count": 8,
   "id": "591cf64e",
   "metadata": {},
   "outputs": [
    {
     "name": "stdout",
     "output_type": "stream",
     "text": [
      "[1.0, 0.0, 0.0, 0.0]\n",
      "[0.5025359040465679, 1.0, 0.0, 0.0]\n",
      "[0.2901227392565774, 1.6254280321364365, 1.0, 0.0]\n",
      "[0.29782739977118083, -0.19355968882628383, -0.4531783711462354, 1.0]\n",
      "\n",
      "\n",
      "\n",
      "[0.8468513429191376, 0.7927510780267659, 0.29924653070711893, 0.03767968082265849]\n",
      "[0.0, 0.3826706203448009, 0.8378825747310071, 0.25886539400147884]\n",
      "[0.0, 0.0, -0.931841713124669, -0.05639833239113179]\n",
      "[0.0, 0.0, 0.0, 0.7537158931326271]\n"
     ]
    }
   ],
   "source": [
    "L, U = LUBlockFactorization(matrix1)\n",
    "printMatrix(L)\n",
    "print('\\n\\n')\n",
    "printMatrix(U)"
   ]
  },
  {
   "cell_type": "markdown",
   "id": "e52b4ae6",
   "metadata": {},
   "source": [
    "## Test poprawności metod"
   ]
  },
  {
   "cell_type": "code",
   "execution_count": 10,
   "id": "51c100dc",
   "metadata": {},
   "outputs": [],
   "source": [
    "from multiplication import hybridMultiplication, sub"
   ]
  },
  {
   "cell_type": "code",
   "execution_count": 11,
   "id": "0408c945",
   "metadata": {},
   "outputs": [
    {
     "name": "stdout",
     "output_type": "stream",
     "text": [
      "-2.7755575615628914e-17\n",
      "1.942890293094024e-16\n"
     ]
    }
   ],
   "source": [
    "L1, U1 = doolittleLUFactorization(matrix1)\n",
    "L2, U2 = LUBlockFactorization(matrix1)\n",
    "\n",
    "dolittleError = sum([sum(row) for row in sub(matrix1, hybridMultiplication(L1, U1, 2**4))])\n",
    "blockError = sum([sum(row) for row in sub(matrix1, hybridMultiplication(L2, U2, 2**4))])\n",
    "\n",
    "print(dolittleError)\n",
    "print(blockError)"
   ]
  },
  {
   "cell_type": "markdown",
   "id": "8530b606",
   "metadata": {},
   "source": [
    "## TODO Wartości własne i wyznacznik"
   ]
  },
  {
   "cell_type": "code",
   "execution_count": 12,
   "id": "c79b7092",
   "metadata": {},
   "outputs": [],
   "source": [
    "from LU_factorization import getEigenValues, calculateDeterminant"
   ]
  },
  {
   "cell_type": "code",
   "execution_count": 15,
   "id": "aeb300e7",
   "metadata": {},
   "outputs": [
    {
     "name": "stdout",
     "output_type": "stream",
     "text": [
      "[0.8468513429191376, 0.3826706203448009, -0.9318417131246695, 0.753715893132627]\n",
      "-0.22760516930750074\n"
     ]
    }
   ],
   "source": [
    "print(getEigenValues(U1))\n",
    "print(calculateDeterminant(U1))"
   ]
  },
  {
   "cell_type": "code",
   "execution_count": 16,
   "id": "94578d79",
   "metadata": {},
   "outputs": [
    {
     "name": "stdout",
     "output_type": "stream",
     "text": [
      "[0.8468513429191376, 0.3826706203448009, -0.931841713124669, 0.7537158931326271]\n",
      "-0.2276051693075007\n"
     ]
    }
   ],
   "source": [
    "print(getEigenValues(U2))\n",
    "print(calculateDeterminant(U2))"
   ]
  },
  {
   "cell_type": "markdown",
   "id": "2bcdb038",
   "metadata": {},
   "source": [
    "## TODO Testy czasowe"
   ]
  },
  {
   "cell_type": "markdown",
   "id": "dcfed1d5",
   "metadata": {},
   "source": [
    "## TODO Ilość operacji"
   ]
  },
  {
   "cell_type": "code",
   "execution_count": null,
   "id": "6be01608",
   "metadata": {},
   "outputs": [],
   "source": []
  }
 ],
 "metadata": {
  "kernelspec": {
   "display_name": "Python 3 (ipykernel)",
   "language": "python",
   "name": "python3"
  },
  "language_info": {
   "codemirror_mode": {
    "name": "ipython",
    "version": 3
   },
   "file_extension": ".py",
   "mimetype": "text/x-python",
   "name": "python",
   "nbconvert_exporter": "python",
   "pygments_lexer": "ipython3",
   "version": "3.8.10"
  }
 },
 "nbformat": 4,
 "nbformat_minor": 5
}
