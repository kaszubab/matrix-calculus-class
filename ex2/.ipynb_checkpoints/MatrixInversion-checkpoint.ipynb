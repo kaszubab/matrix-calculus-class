{
 "cells": [
  {
   "cell_type": "markdown",
   "id": "c5d39623",
   "metadata": {},
   "source": [
    "# Proszę zaimplementować rekurencyjne odwracanie macierzy o rozmiarze 2k × 2k wykorzystując swoje rekurencyjne mnożenie macierzy z zadania 1\n"
   ]
  },
  {
   "cell_type": "code",
   "execution_count": 14,
   "id": "8dba09c9",
   "metadata": {},
   "outputs": [],
   "source": [
    "from random import uniform\n",
    "import random"
   ]
  },
  {
   "cell_type": "markdown",
   "id": "1bcd5052",
   "metadata": {},
   "source": [
    "### Zmienna globalna do przechowywania ilości operacji"
   ]
  },
  {
   "cell_type": "code",
   "execution_count": 15,
   "id": "717194fc",
   "metadata": {},
   "outputs": [],
   "source": [
    "operationCount = 0"
   ]
  },
  {
   "cell_type": "markdown",
   "id": "9c7a4e5f",
   "metadata": {},
   "source": [
    "### Tworzenie macierzy"
   ]
  },
  {
   "cell_type": "code",
   "execution_count": 16,
   "id": "f55b203d",
   "metadata": {},
   "outputs": [],
   "source": [
    "def createMatrix(size):\n",
    "    matrix = []\n",
    "    for i in range(size):\n",
    "        matrix.append([])\n",
    "        for j in range(size):\n",
    "            matrix[i].append(random.randint(1, 10))\n",
    "    return matrix"
   ]
  },
  {
   "cell_type": "markdown",
   "id": "7dfb5e89",
   "metadata": {},
   "source": [
    "### Tworzenie macierzy jednostkowej"
   ]
  },
  {
   "cell_type": "code",
   "execution_count": 17,
   "id": "51cb59af",
   "metadata": {},
   "outputs": [],
   "source": [
    "def createIdentityMatrix(matrix):\n",
    "    matrixSize = len(matrix)\n",
    "    matrix = []\n",
    "    for i in range(matrixSize):\n",
    "        matrix.append([])\n",
    "        for j in range(matrixSize):\n",
    "            if i == j:\n",
    "                matrix[i].append(1)\n",
    "            else:\n",
    "                matrix[i].append(0)\n",
    "    return matrix"
   ]
  },
  {
   "cell_type": "markdown",
   "id": "564e66e9",
   "metadata": {},
   "source": [
    "### Wyświetlenie macierzy"
   ]
  },
  {
   "cell_type": "code",
   "execution_count": 18,
   "id": "babc317e",
   "metadata": {},
   "outputs": [],
   "source": [
    "def printMatrix(matrix):\n",
    "    for row in matrix:\n",
    "        print(row)"
   ]
  },
  {
   "cell_type": "code",
   "execution_count": 19,
   "id": "cfc3d74a",
   "metadata": {},
   "outputs": [
    {
     "name": "stdout",
     "output_type": "stream",
     "text": [
      "[1, 0, 0, 0]\n",
      "[0, 1, 0, 0]\n",
      "[0, 0, 1, 0]\n",
      "[0, 0, 0, 1]\n",
      "[4, 5, 7, 9]\n",
      "[4, 7, 4, 3]\n",
      "[9, 5, 6, 9]\n",
      "[7, 10, 7, 2]\n"
     ]
    }
   ],
   "source": [
    "matrix1 = createMatrix(4)\n",
    "identityMatrix1 = createIdentityMatrix(matrix1)\n",
    "printMatrix(identityMatrix1)\n",
    "printMatrix(matrix1)"
   ]
  },
  {
   "cell_type": "markdown",
   "id": "2d1e8a2e",
   "metadata": {},
   "source": [
    "## Tradycyjne odwracanie macierzy"
   ]
  },
  {
   "cell_type": "code",
   "execution_count": 20,
   "id": "6b8f57c5",
   "metadata": {},
   "outputs": [],
   "source": [
    "def invertMatrix(AM, IM):\n",
    "    global operationCount\n",
    "    newAM = AM.copy()\n",
    "    for fd in range(len(newAM)):\n",
    "        fdScaler = 1.0 / newAM[fd][fd]\n",
    "        for j in range(len(newAM)):\n",
    "            newAM[fd][j] *= fdScaler\n",
    "            IM[fd][j] *= fdScaler\n",
    "            operationCount += 2\n",
    "        for i in list(range(len(newAM)))[0:fd] + list(range(len(newAM)))[fd+1:]:\n",
    "            crScaler = newAM[i][fd]\n",
    "            for j in range(len(AM)):\n",
    "                newAM[i][j] = newAM[i][j] - crScaler * newAM[fd][j]\n",
    "                IM[i][j] = IM[i][j] - crScaler * IM[fd][j]\n",
    "                operationCount += 2\n",
    "               \n",
    "    return IM"
   ]
  },
  {
   "cell_type": "code",
   "execution_count": 21,
   "id": "66261893",
   "metadata": {},
   "outputs": [
    {
     "name": "stdout",
     "output_type": "stream",
     "text": [
      "[-0.15555555555555547, -0.11111111111111105, 0.17777777777777778, 0.06666666666666661]\n",
      "[-0.05416666666666667, 0.41666666666666663, -0.05416666666666667, -0.13749999999999998]\n",
      "[0.2222222222222222, -0.5555555555555556, -0.1111111111111111, 0.3333333333333333]\n",
      "[0.037500000000000006, 0.25, 0.0375, -0.2125]\n"
     ]
    }
   ],
   "source": [
    "printMatrix(invertMatrix(matrix1, identityMatrix1))"
   ]
  },
  {
   "cell_type": "markdown",
   "id": "a76365bb",
   "metadata": {},
   "source": [
    "## Blokowe odwracanie macierzy"
   ]
  },
  {
   "cell_type": "markdown",
   "id": "3de34f5d",
   "metadata": {},
   "source": [
    "### Operacje macierzowe z wykorzystanie JS"
   ]
  },
  {
   "cell_type": "code",
   "execution_count": 97,
   "id": "b072b436",
   "metadata": {},
   "outputs": [],
   "source": [
    "import os\n",
    "import json\n",
    "\n",
    "def runJsOperation(matrixA, matrixB, jsFileName, dummyOperation=False, counting=False):\n",
    "    fileName1 = 'matrix1.json'\n",
    "    fileName2 = 'matrix2.json'\n",
    "    resultFileName = 'resMatrix.json'\n",
    "    for matrix, fileName in [(matrixA, fileName1), (matrixB, fileName2)]:   \n",
    "        with open(fileName, 'w') as file:\n",
    "            matrixJson = json.dumps(matrix)\n",
    "            file.write(matrixJson)\n",
    "    os.system(f\"node {jsFileName} {fileName1} {fileName2} {resultFileName} {dummyOperation} {counting} 8\")\n",
    "    \n",
    "    with open(resultFileName, 'r') as file:\n",
    "        matrixJson = json.load(file)\n",
    "        print(matrixJson)\n",
    "        return matrixJson\n",
    "\n",
    "def multiplyMatricesWithJs(matrixA, matrixB):\n",
    "    return runJsOperation(matrixA, matrixB, './js/hybridMultiplication.js')\n",
    "    \n",
    "def addMatricesWithJs(matrixA, matrixB):\n",
    "    return runJsOperation(matrixA, matrixB, './js/add.js')\n",
    "\n",
    "def multiplyMatricesWithJsWithCounting(matrixA, matrixB):\n",
    "    return runJsOperation(matrixA, matrixB, './js/hybridMultiplication.js', counting=True)\n",
    "    \n",
    "def addMatricesWithJsWithCounting(matrixA, matrixB):\n",
    "    return runJsOperation(matrixA, matrixB, './js/add.js', counting=True)\n",
    "\n",
    "def dummyOperation(matrixA, matrixB):\n",
    "    return runJsOperation(matrixA, matrixB, './js/hybridMultiplication.js', dummyOperation=True)\n",
    "    "
   ]
  },
  {
   "cell_type": "code",
   "execution_count": 88,
   "id": "0f90fc72",
   "metadata": {},
   "outputs": [],
   "source": [
    "matrixA = createMatrix(4)"
   ]
  },
  {
   "cell_type": "code",
   "execution_count": 102,
   "id": "02f3f172",
   "metadata": {},
   "outputs": [
    {
     "name": "stdout",
     "output_type": "stream",
     "text": [
      "[4, 4, 3, 9]\n",
      "[8, 7, 3, 5]\n",
      "[5, 9, 9, 2]\n",
      "[5, 4, 1, 1]\n",
      "{ counting: '8' }\n",
      "[[4, 4, 3, 9], [8, 7, 3, 5], [5, 9, 9, 2], [5, 4, 1, 1]]\n"
     ]
    },
    {
     "data": {
      "text/plain": [
       "[[4, 4, 3, 9], [8, 7, 3, 5], [5, 9, 9, 2], [5, 4, 1, 1]]"
      ]
     },
     "execution_count": 102,
     "metadata": {},
     "output_type": "execute_result"
    }
   ],
   "source": [
    "printMatrix(matrixA)\n",
    "multiplyMatricesWithJsWithCounting(matrixA, matrixA)"
   ]
  },
  {
   "cell_type": "markdown",
   "id": "a803bedb",
   "metadata": {},
   "source": [
    "### Funkcje pomocnicze"
   ]
  },
  {
   "cell_type": "code",
   "execution_count": 23,
   "id": "4d2a8419",
   "metadata": {},
   "outputs": [],
   "source": [
    "import copy\n",
    "\n",
    "def splitMatrixIntoFourParts(matrix):\n",
    "    length = len(matrix)\n",
    "    firstHalf = matrix[0:length//2]\n",
    "    secondHalf = matrix[length//2:]\n",
    "    firstQuarter = [x[0:length//2] for x in firstHalf]\n",
    "    secondQuarter = [x[length//2:] for x in firstHalf]\n",
    "    thirdQuarter = [x[0:length//2] for x in secondHalf]\n",
    "    fourthQuarter = [x[length//2:] for x in secondHalf]\n",
    "    return (firstQuarter, secondQuarter, thirdQuarter, fourthQuarter)\n",
    "\n",
    "def joinMatrixFromFourParts(first, second, third, fourth):\n",
    "    firstHalf = [x + y for (x,y) in zip(first, second)]\n",
    "    secondHalf = [x + y for (x,y) in zip(third, fourth)]\n",
    "    return firstHalf + secondHalf\n",
    "\n",
    "def invertSmallMatrix(matrix):\n",
    "    identityMatrix = createIdentityMatrix(matrix)\n",
    "    copiedMatrix = copy.deepcopy(matrix)\n",
    "    return invertMatrix(copiedMatrix, identityMatrix)\n",
    "\n",
    "def negateMatrix(matrix):\n",
    "    if(len(matrix) == 1): \n",
    "        return [[-matrix[0][0]]]\n",
    "    return list(map(lambda x: list(map(lambda y: -y, x)), matrix))\n"
   ]
  },
  {
   "cell_type": "markdown",
   "id": "5bda77ad",
   "metadata": {},
   "source": [
    "### Blokowa inwersja macierzy"
   ]
  },
  {
   "cell_type": "code",
   "execution_count": 74,
   "id": "784a175f",
   "metadata": {},
   "outputs": [],
   "source": [
    "def invertMatrixBlock(matrix, multiply, add):\n",
    "    def invertMatrixBlockRecur(matrix):  \n",
    "        if(len(matrix) <= 2):\n",
    "            return invertSmallMatrix(matrix)\n",
    "        resultMatrix = None\n",
    "\n",
    "        A11, A12, A21, A22 = splitMatrixIntoFourParts(matrix)\n",
    "        invertedA11 = invertMatrixBlockRecur(A11)\n",
    "        S22 = add(A22, negateMatrix(multiply(multiply(A21, invertedA11), A12)))\n",
    "        invertedS22 = invertMatrixBlockRecur(S22)\n",
    "\n",
    "        tempResult = multiply(multiply(multiply(A12, invertedS22), A21), invertedA11)\n",
    "        B11 = multiply(invertedA11, add(createIdentityMatrix(tempResult), tempResult))\n",
    "\n",
    "        B12 = multiply(multiply(negateMatrix(invertedA11), A12), invertedS22)\n",
    "        B21 = multiply(multiply(negateMatrix(invertedS22), A21), invertedA11)\n",
    "        B22 = invertedS22\n",
    "        resultMatrix = joinMatrixFromFourParts(B11, B12, B21, B22)\n",
    "        return resultMatrix\n",
    "    return invertMatrixBlockRecur(matrix)\n",
    "\n",
    "                            "
   ]
  },
  {
   "cell_type": "markdown",
   "id": "8be1986f",
   "metadata": {},
   "source": [
    "### Testy poprawności odwracania macierzy"
   ]
  },
  {
   "cell_type": "code",
   "execution_count": 78,
   "id": "e804b564",
   "metadata": {},
   "outputs": [
    {
     "name": "stdout",
     "output_type": "stream",
     "text": [
      "[2, 1, 1, 9, 1, 8, 4, 10]\n",
      "[9, 1, 3, 6, 2, 1, 6, 8]\n",
      "[7, 7, 4, 1, 9, 6, 2, 7]\n",
      "[1, 9, 8, 7, 8, 2, 5, 6]\n",
      "[9, 3, 2, 3, 3, 4, 2, 1]\n",
      "[8, 4, 4, 9, 8, 7, 2, 8]\n",
      "[5, 5, 10, 9, 7, 7, 7, 3]\n",
      "[3, 7, 7, 9, 7, 4, 6, 10]\n"
     ]
    }
   ],
   "source": [
    "matrixA = createMatrix(8)\n",
    "printMatrix(matrixA)"
   ]
  },
  {
   "cell_type": "code",
   "execution_count": 79,
   "id": "7cf7c8f2",
   "metadata": {},
   "outputs": [
    {
     "data": {
      "text/plain": [
       "[[2, 1, 1, 9, 1, 8, 4, 10],\n",
       " [9, 1, 3, 6, 2, 1, 6, 8],\n",
       " [7, 7, 4, 1, 9, 6, 2, 7],\n",
       " [1, 9, 8, 7, 8, 2, 5, 6],\n",
       " [9, 3, 2, 3, 3, 4, 2, 1],\n",
       " [8, 4, 4, 9, 8, 7, 2, 8],\n",
       " [5, 5, 10, 9, 7, 7, 7, 3],\n",
       " [3, 7, 7, 9, 7, 4, 6, 10]]"
      ]
     },
     "execution_count": 79,
     "metadata": {},
     "output_type": "execute_result"
    }
   ],
   "source": [
    "matrixA"
   ]
  },
  {
   "cell_type": "code",
   "execution_count": 80,
   "id": "ca47e366",
   "metadata": {},
   "outputs": [],
   "source": [
    "invertedMatrixBlockValue = invertMatrixBlock(matrixA, multiplyMatricesWithJs, addMatricesWithJs)"
   ]
  },
  {
   "cell_type": "code",
   "execution_count": 81,
   "id": "b6ab72b8",
   "metadata": {},
   "outputs": [],
   "source": [
    "copiedMatrix = copy.deepcopy(matrixA)\n",
    "invertedMatrixTraditionalValue = invertMatrix(copiedMatrix, createIdentityMatrix(copiedMatrix))"
   ]
  },
  {
   "cell_type": "code",
   "execution_count": 82,
   "id": "231e43c0",
   "metadata": {},
   "outputs": [
    {
     "name": "stdout",
     "output_type": "stream",
     "text": [
      "0.26903296518000075\n"
     ]
    }
   ],
   "source": [
    "print(sum([sum(x) for x in addMatricesWithJs(negateMatrix(invertedMatrixBlockValue), invertedMatrixTraditionalValue)]))"
   ]
  },
  {
   "cell_type": "markdown",
   "id": "57cbf37b",
   "metadata": {},
   "source": [
    "## Testy wydajności rozwiązania"
   ]
  },
  {
   "cell_type": "code",
   "execution_count": 30,
   "id": "031a7694",
   "metadata": {},
   "outputs": [],
   "source": [
    "matrixSizes = [2**i for i in range(1,6)]\n",
    "matrices = [createMatrix(i) for i in matrixSizes]"
   ]
  },
  {
   "cell_type": "code",
   "execution_count": 31,
   "id": "11124da7",
   "metadata": {},
   "outputs": [],
   "source": [
    "def dummyInvertMatrixBlock(matrix):\n",
    "    if(len(matrix) <= 2):\n",
    "        return matrix\n",
    "    \n",
    "    A11, A12, A21, A22 = splitMatrixIntoFourParts(matrix)\n",
    "    invertedA11 = dummyInvertMatrixBlock(A11)\n",
    "    S22 = dummyOperation(A22, dummyOperation(dummyOperation(A21, invertedA11), A12))\n",
    "    invertedS22 = dummyInvertMatrixBlock(S22)\n",
    "    \n",
    "    tempResult = dummyOperation(dummyOperation(dummyOperation(A12, invertedS22), A21), invertedA11)\n",
    "    B11 = dummyOperation(invertedA11, dummyOperation(createIdentityMatrix(tempResult), tempResult))\n",
    "    \n",
    "    B12 = dummyOperation(dummyOperation(invertedA11, A12), invertedS22)\n",
    "    B21 = dummyOperation(dummyOperation(invertedS22, A21), invertedA11)\n",
    "    B22 = invertedS22\n",
    "    \n",
    "    return joinMatrixFromFourParts(B11, B12, B21, B22)"
   ]
  },
  {
   "cell_type": "code",
   "execution_count": 32,
   "id": "eb139f6c",
   "metadata": {},
   "outputs": [],
   "source": [
    "import time\n",
    "def calculateRunningTime(matrix):\n",
    "    start_time = time.time()\n",
    "    invertMatrixBlock(matrix, multiplyMatricesWithJs, addMatricesWithJs)\n",
    "    return (time.time() - start_time) * 1000\n",
    "\n",
    "def calculateTraditionalRunningTime(matrix):\n",
    "    start_time = time.time()\n",
    "    invertSmallMatrix(matrix)\n",
    "    return (time.time() - start_time) * 1000\n",
    "\n",
    "def calculateDummyRunningTime(matrix):\n",
    "    start_time = time.time()\n",
    "    dummyInvertMatrixBlock(matrix)\n",
    "    return (time.time() - start_time) * 1000\n",
    "\n",
    "def calculateOperations(matrix):\n",
    "    global operationCount\n",
    "    operationCount = 0\n",
    "    invertMatrixBlock(matrix, multiplyMatricesWithJs, addMatricesWithJs)\n",
    "    return operationCount\n",
    "\n",
    "def calculateTraditionalOperations(matrix):\n",
    "    global operationCount\n",
    "    operationCount = 0\n",
    "    invertSmallMatrix(matrix)\n",
    "    return operationCount"
   ]
  },
  {
   "cell_type": "markdown",
   "id": "3c11a880",
   "metadata": {},
   "source": [
    "### Pomiar czasu wykonania odwracania macierzy"
   ]
  },
  {
   "cell_type": "code",
   "execution_count": null,
   "id": "8c4d1236",
   "metadata": {},
   "outputs": [],
   "source": [
    "matrixTimes = [calculateRunningTime(matrix) for matrix in matrices]"
   ]
  },
  {
   "cell_type": "code",
   "execution_count": null,
   "id": "1b5a6a75",
   "metadata": {},
   "outputs": [],
   "source": [
    "matrixDummyTimes = [calculateDummyRunningTime(matrix) for matrix in matrices]"
   ]
  },
  {
   "cell_type": "code",
   "execution_count": null,
   "id": "9bd6e3b7",
   "metadata": {},
   "outputs": [],
   "source": [
    "matrixTraditionalTimes = [calculateTraditionalRunningTime(matrix) for matrix in matrices]"
   ]
  },
  {
   "cell_type": "markdown",
   "id": "eedadba5",
   "metadata": {},
   "source": [
    "### Wykres czasu wykonania"
   ]
  },
  {
   "cell_type": "code",
   "execution_count": null,
   "id": "0090ffbf",
   "metadata": {},
   "outputs": [],
   "source": [
    "import matplotlib.pyplot as plt\n",
    "\n",
    "\n",
    "plt.scatter(matrixSizes, matrixTimes)\n",
    "plt.show()"
   ]
  },
  {
   "cell_type": "code",
   "execution_count": null,
   "id": "a7683c86",
   "metadata": {},
   "outputs": [],
   "source": [
    "plt.scatter(matrixSizes, matrixDummyTimes)\n",
    "plt.show()"
   ]
  },
  {
   "cell_type": "code",
   "execution_count": null,
   "id": "b4aebde0",
   "metadata": {},
   "outputs": [],
   "source": [
    "plt.scatter(matrixSizes, matrixTraditionalTimes)\n",
    "plt.show()"
   ]
  },
  {
   "cell_type": "code",
   "execution_count": null,
   "id": "d3f48761",
   "metadata": {},
   "outputs": [],
   "source": [
    "matrixExtraSizes = [2**i for i in range(1,9)]\n",
    "matricesExtra = [createMatrix(i) for i in matrixExtraSizes]\n",
    "matrixExtraTraditionalTimes = [calculateTraditionalRunningTime(matrix) for matrix in matricesExtra]"
   ]
  },
  {
   "cell_type": "code",
   "execution_count": null,
   "id": "223f456c",
   "metadata": {},
   "outputs": [],
   "source": [
    "plt.scatter(matrixExtraSizes, matrixExtraTraditionalTimes)\n",
    "plt.show()"
   ]
  },
  {
   "cell_type": "markdown",
   "id": "fd625321",
   "metadata": {},
   "source": [
    "### Pomiar ilości wykonywanych operacji\n"
   ]
  },
  {
   "cell_type": "code",
   "execution_count": 4,
   "id": "55002651",
   "metadata": {},
   "outputs": [
    {
     "ename": "NameError",
     "evalue": "name 'matrices' is not defined",
     "output_type": "error",
     "traceback": [
      "\u001b[0;31m---------------------------------------------------------------------------\u001b[0m",
      "\u001b[0;31mNameError\u001b[0m                                 Traceback (most recent call last)",
      "\u001b[0;32m/tmp/ipykernel_8057/2917697666.py\u001b[0m in \u001b[0;36m<module>\u001b[0;34m\u001b[0m\n\u001b[0;32m----> 1\u001b[0;31m \u001b[0mmatrixOperations\u001b[0m \u001b[0;34m=\u001b[0m \u001b[0;34m[\u001b[0m\u001b[0mcalculateOperations\u001b[0m\u001b[0;34m(\u001b[0m\u001b[0mmatrix\u001b[0m\u001b[0;34m)\u001b[0m \u001b[0;32mfor\u001b[0m \u001b[0mmatrix\u001b[0m \u001b[0;32min\u001b[0m \u001b[0mmatrices\u001b[0m\u001b[0;34m]\u001b[0m\u001b[0;34m\u001b[0m\u001b[0;34m\u001b[0m\u001b[0m\n\u001b[0m",
      "\u001b[0;31mNameError\u001b[0m: name 'matrices' is not defined"
     ]
    }
   ],
   "source": [
    "matrixOperations = [calculateOperations(matrix) for matrix in matrices]"
   ]
  },
  {
   "cell_type": "code",
   "execution_count": 5,
   "id": "6efddea7",
   "metadata": {},
   "outputs": [
    {
     "ename": "NameError",
     "evalue": "name 'matrices' is not defined",
     "output_type": "error",
     "traceback": [
      "\u001b[0;31m---------------------------------------------------------------------------\u001b[0m",
      "\u001b[0;31mNameError\u001b[0m                                 Traceback (most recent call last)",
      "\u001b[0;32m/tmp/ipykernel_8057/3743428595.py\u001b[0m in \u001b[0;36m<module>\u001b[0;34m\u001b[0m\n\u001b[0;32m----> 1\u001b[0;31m \u001b[0mmatrixTraditionalOperations\u001b[0m \u001b[0;34m=\u001b[0m \u001b[0;34m[\u001b[0m\u001b[0mcalculateTraditionalOperations\u001b[0m\u001b[0;34m(\u001b[0m\u001b[0mmatrix\u001b[0m\u001b[0;34m)\u001b[0m \u001b[0;32mfor\u001b[0m \u001b[0mmatrix\u001b[0m \u001b[0;32min\u001b[0m \u001b[0mmatrices\u001b[0m\u001b[0;34m]\u001b[0m\u001b[0;34m\u001b[0m\u001b[0;34m\u001b[0m\u001b[0m\n\u001b[0m",
      "\u001b[0;31mNameError\u001b[0m: name 'matrices' is not defined"
     ]
    }
   ],
   "source": [
    "matrixTraditionalOperations = [calculateTraditionalOperations(matrix) for matrix in matrices]"
   ]
  },
  {
   "cell_type": "code",
   "execution_count": null,
   "id": "2625bb8a",
   "metadata": {},
   "outputs": [],
   "source": [
    "plt.scatter(matrixSizes, matrixOperations)\n",
    "plt.show()"
   ]
  },
  {
   "cell_type": "code",
   "execution_count": null,
   "id": "ab7aac66",
   "metadata": {},
   "outputs": [],
   "source": [
    "plt.scatter(matrixSizes, matrixTraditionalOperations)\n",
    "plt.show()"
   ]
  }
 ],
 "metadata": {
  "kernelspec": {
   "display_name": "Python 3 (ipykernel)",
   "language": "python",
   "name": "python3"
  },
  "language_info": {
   "codemirror_mode": {
    "name": "ipython",
    "version": 3
   },
   "file_extension": ".py",
   "mimetype": "text/x-python",
   "name": "python",
   "nbconvert_exporter": "python",
   "pygments_lexer": "ipython3",
   "version": "3.8.10"
  }
 },
 "nbformat": 4,
 "nbformat_minor": 5
}
