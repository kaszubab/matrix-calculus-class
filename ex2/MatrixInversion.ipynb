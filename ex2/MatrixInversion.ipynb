{
 "cells": [
  {
   "cell_type": "markdown",
   "id": "c5d39623",
   "metadata": {},
   "source": [
    "# Proszę zaimplementować rekurencyjne odwracanie macierzy o rozmiarze 2k × 2k wykorzystując swoje rekurencyjne mnożenie macierzy z zadania 1\n"
   ]
  },
  {
   "cell_type": "code",
   "execution_count": 130,
   "id": "8dba09c9",
   "metadata": {},
   "outputs": [],
   "source": [
    "from random import uniform\n",
    "import random"
   ]
  },
  {
   "cell_type": "markdown",
   "id": "9cf1c7fb",
   "metadata": {},
   "source": [
    "### Zmienna globalna do przechowywania ilości operacji"
   ]
  },
  {
   "cell_type": "code",
   "execution_count": 131,
   "id": "873b919d",
   "metadata": {},
   "outputs": [],
   "source": [
    "operationCount = 0"
   ]
  },
  {
   "cell_type": "markdown",
   "id": "9c7a4e5f",
   "metadata": {},
   "source": [
    "### Tworzenie macierzy"
   ]
  },
  {
   "cell_type": "code",
   "execution_count": 132,
   "id": "f55b203d",
   "metadata": {},
   "outputs": [],
   "source": [
    "def createMatrix(size):\n",
    "    matrix = []\n",
    "    for i in range(size):\n",
    "        matrix.append([])\n",
    "        for j in range(size):\n",
    "            matrix[i].append(random.uniform(0, 1))\n",
    "    return matrix"
   ]
  },
  {
   "cell_type": "markdown",
   "id": "7dfb5e89",
   "metadata": {},
   "source": [
    "### Tworzenie macierzy jednostkowej"
   ]
  },
  {
   "cell_type": "code",
   "execution_count": 133,
   "id": "51cb59af",
   "metadata": {},
   "outputs": [],
   "source": [
    "def createIdentityMatrix(matrix):\n",
    "    matrixSize = len(matrix)\n",
    "    matrix = []\n",
    "    for i in range(matrixSize):\n",
    "        matrix.append([])\n",
    "        for j in range(matrixSize):\n",
    "            if i == j:\n",
    "                matrix[i].append(1.0)\n",
    "            else:\n",
    "                matrix[i].append(0.0)\n",
    "    return matrix"
   ]
  },
  {
   "cell_type": "markdown",
   "id": "564e66e9",
   "metadata": {},
   "source": [
    "### Wyświetlenie macierzy"
   ]
  },
  {
   "cell_type": "code",
   "execution_count": 134,
   "id": "babc317e",
   "metadata": {},
   "outputs": [],
   "source": [
    "def printMatrix(matrix):\n",
    "    for row in matrix:\n",
    "        print(row)"
   ]
  },
  {
   "cell_type": "code",
   "execution_count": 135,
   "id": "cfc3d74a",
   "metadata": {},
   "outputs": [
    {
     "name": "stdout",
     "output_type": "stream",
     "text": [
      "[1.0, 0.0, 0.0, 0.0]\n",
      "[0.0, 1.0, 0.0, 0.0]\n",
      "[0.0, 0.0, 1.0, 0.0]\n",
      "[0.0, 0.0, 0.0, 1.0]\n",
      "[0.8981641206648349, 0.2308109538308688, 0.8304852362412584, 0.5121590751183016]\n",
      "[0.4404126891920288, 0.4195352775371103, 0.5502217976310241, 0.7049646878884763]\n",
      "[0.7255101689636123, 0.005727984993143309, 0.3998721511118156, 0.41845759079780553]\n",
      "[0.6070101317275818, 0.6335498860718052, 0.2214749112353579, 0.12143921606254271]\n"
     ]
    }
   ],
   "source": [
    "matrix1 = createMatrix(4)\n",
    "identityMatrix1 = createIdentityMatrix(matrix1)\n",
    "printMatrix(identityMatrix1)\n",
    "printMatrix(matrix1)"
   ]
  },
  {
   "cell_type": "markdown",
   "id": "2d1e8a2e",
   "metadata": {},
   "source": [
    "## Tradycyjne odwracanie macierzy"
   ]
  },
  {
   "cell_type": "code",
   "execution_count": 136,
   "id": "6b8f57c5",
   "metadata": {},
   "outputs": [],
   "source": [
    "def invertMatrix(AM, IM):\n",
    "    global operationCount\n",
    "    newAM = AM.copy()\n",
    "    for fd in range(len(newAM)):\n",
    "        fdScaler = 1.0 / newAM[fd][fd]\n",
    "        for j in range(len(newAM)):\n",
    "            newAM[fd][j] *= fdScaler\n",
    "            IM[fd][j] *= fdScaler\n",
    "            operationCount += 2\n",
    "        for i in list(range(len(newAM)))[0:fd] + list(range(len(newAM)))[fd+1:]:\n",
    "            crScaler = newAM[i][fd]\n",
    "            for j in range(len(AM)):\n",
    "                newAM[i][j] = newAM[i][j] - crScaler * newAM[fd][j]\n",
    "                IM[i][j] = IM[i][j] - crScaler * IM[fd][j]\n",
    "                operationCount += 2\n",
    "               \n",
    "    return IM"
   ]
  },
  {
   "cell_type": "code",
   "execution_count": 137,
   "id": "66261893",
   "metadata": {},
   "outputs": [
    {
     "name": "stdout",
     "output_type": "stream",
     "text": [
      "[-0.5632525449698185, -0.8918628516567899, 1.9660898880657247, 0.778014586711079]\n",
      "[-0.1556355904721647, 0.6233755702770756, -1.2176164006951171, 1.2333185781409666]\n",
      "[3.050883260342439, -0.3823736182623829, -2.8482623888428136, -0.8325204702287419]\n",
      "[-1.9366988257094098, 1.903144932873352, 1.719402648588782, -0.5702374112471956]\n"
     ]
    }
   ],
   "source": [
    "printMatrix(invertMatrix(matrix1, identityMatrix1))"
   ]
  },
  {
   "cell_type": "markdown",
   "id": "a76365bb",
   "metadata": {},
   "source": [
    "## Blokowe odwracanie macierzy"
   ]
  },
  {
   "cell_type": "markdown",
   "id": "3de34f5d",
   "metadata": {},
   "source": [
    "### Operacje macierzowe z wykorzystanie JS"
   ]
  },
  {
   "cell_type": "code",
   "execution_count": 138,
   "id": "b072b436",
   "metadata": {},
   "outputs": [],
   "source": [
    "import os\n",
    "import json\n",
    "\n",
    "def runJsOperation(matrixA, matrixB, jsFileName, dummyOperation=False, counting=False):\n",
    "    global operationCount\n",
    "    fileName1 = 'matrix1.json'\n",
    "    fileName2 = 'matrix2.json'\n",
    "    resultFileName = 'resMatrix.json'\n",
    "    for matrix, fileName in [(matrixA, fileName1), (matrixB, fileName2)]:   \n",
    "        with open(fileName, 'w') as file:\n",
    "            matrixJson = json.dumps(matrix)\n",
    "            file.write(matrixJson)\n",
    "    os.system(f\"node {jsFileName} {fileName1} {fileName2} {resultFileName} {dummyOperation} {counting} 8\")\n",
    "    \n",
    "    with open(resultFileName, 'r') as file:\n",
    "        resultJson = json.load(file)\n",
    "        if counting:\n",
    "            matrix, operations = resultJson\n",
    "            operationCount += operations\n",
    "            return matrix\n",
    "        return resultJson\n",
    "\n",
    "def multiplyMatricesWithJs(matrixA, matrixB):\n",
    "    return runJsOperation(matrixA, matrixB, './js/hybridMultiplication.js')\n",
    "    \n",
    "def addMatricesWithJs(matrixA, matrixB):\n",
    "    return runJsOperation(matrixA, matrixB, './js/add.js')\n",
    "\n",
    "def multiplyMatricesWithJsWithCounting(matrixA, matrixB):\n",
    "    return runJsOperation(matrixA, matrixB, './js/hybridMultiplication.js', counting=True)\n",
    "    \n",
    "def addMatricesWithJsWithCounting(matrixA, matrixB):\n",
    "    return runJsOperation(matrixA, matrixB, './js/add.js', counting=True)\n",
    "\n",
    "def dummyOperation(matrixA, matrixB):\n",
    "    return runJsOperation(matrixA, matrixB, './js/hybridMultiplication.js', dummyOperation=True)\n",
    "    "
   ]
  },
  {
   "cell_type": "code",
   "execution_count": 139,
   "id": "5ebd86ff",
   "metadata": {},
   "outputs": [],
   "source": [
    "matrixA = createMatrix(4)"
   ]
  },
  {
   "cell_type": "code",
   "execution_count": 140,
   "id": "29c6731a",
   "metadata": {},
   "outputs": [
    {
     "name": "stdout",
     "output_type": "stream",
     "text": [
      "[0.3021677491050121, 0.9764122923024043, 0.6489582078508461, 0.6893810171280421]\n",
      "[0.07507970884683002, 0.7226187401857346, 0.15273114281725808, 0.21818453425635498]\n",
      "[0.48644163946637553, 0.004077537988224966, 0.9266825749323434, 0.6164207774098012]\n",
      "[0.4766693318240389, 0.16427303848910135, 0.6176457454176215, 0.15307938982687985]\n"
     ]
    },
    {
     "data": {
      "text/plain": [
       "[[0.8089011825984467,\n",
       "  1.1165069912345242,\n",
       "  1.3723943214691863,\n",
       "  0.9269081199095688],\n",
       " [0.2552373349140304,\n",
       "  0.6319511977185919,\n",
       "  0.4353840173065558,\n",
       "  0.33696896448656977],\n",
       " [0.8918989867388704,\n",
       "  0.5829539991220489,\n",
       "  1.5557733268463734,\n",
       "  1.0018209976500505],\n",
       " [0.5297845304409956,\n",
       "  0.6117978615631674,\n",
       "  1.0013384678177986,\n",
       "  0.7686115953441772]]"
      ]
     },
     "execution_count": 140,
     "metadata": {},
     "output_type": "execute_result"
    }
   ],
   "source": [
    "printMatrix(matrixA)\n",
    "multiplyMatricesWithJsWithCounting(matrixA, matrixA)"
   ]
  },
  {
   "cell_type": "markdown",
   "id": "a803bedb",
   "metadata": {},
   "source": [
    "### Funkcje pomocnicze"
   ]
  },
  {
   "cell_type": "code",
   "execution_count": 141,
   "id": "4d2a8419",
   "metadata": {},
   "outputs": [],
   "source": [
    "import copy\n",
    "\n",
    "def splitMatrixIntoFourParts(matrix):\n",
    "    length = len(matrix)\n",
    "    firstHalf = matrix[0:length//2]\n",
    "    secondHalf = matrix[length//2:]\n",
    "    firstQuarter = [x[0:length//2] for x in firstHalf]\n",
    "    secondQuarter = [x[length//2:] for x in firstHalf]\n",
    "    thirdQuarter = [x[0:length//2] for x in secondHalf]\n",
    "    fourthQuarter = [x[length//2:] for x in secondHalf]\n",
    "    return (firstQuarter, secondQuarter, thirdQuarter, fourthQuarter)\n",
    "\n",
    "def joinMatrixFromFourParts(first, second, third, fourth):\n",
    "    firstHalf = [x + y for (x,y) in zip(first, second)]\n",
    "    secondHalf = [x + y for (x,y) in zip(third, fourth)]\n",
    "    return firstHalf + secondHalf\n",
    "\n",
    "def invertSmallMatrix(matrix):\n",
    "    identityMatrix = createIdentityMatrix(matrix)\n",
    "    copiedMatrix = copy.deepcopy(matrix)\n",
    "    return invertMatrix(copiedMatrix, identityMatrix)\n",
    "\n",
    "def negateMatrix(matrix):\n",
    "    if(len(matrix) == 1): \n",
    "        return [[-matrix[0][0]]]\n",
    "    return list(map(lambda x: list(map(lambda y: -y, x)), matrix))\n"
   ]
  },
  {
   "cell_type": "markdown",
   "id": "5bda77ad",
   "metadata": {},
   "source": [
    "### Blokowa inwersja macierzy"
   ]
  },
  {
   "cell_type": "code",
   "execution_count": 142,
   "id": "784a175f",
   "metadata": {},
   "outputs": [],
   "source": [
    "def invertMatrixBlock(matrix, multiply, add):\n",
    "    def invertMatrixBlockRecur(matrix):  \n",
    "        if(len(matrix) <= 2):\n",
    "            return invertSmallMatrix(matrix)\n",
    "        resultMatrix = None\n",
    "\n",
    "        A11, A12, A21, A22 = splitMatrixIntoFourParts(matrix)\n",
    "        invertedA11 = invertMatrixBlockRecur(A11)\n",
    "        S22 = add(A22, negateMatrix(multiply(multiply(A21, invertedA11), A12)))\n",
    "        invertedS22 = invertMatrixBlockRecur(S22)\n",
    "\n",
    "        tempResult = multiply(multiply(multiply(A12, invertedS22), A21), invertedA11)\n",
    "        B11 = multiply(invertedA11, add(createIdentityMatrix(tempResult), tempResult))\n",
    "\n",
    "        B12 = multiply(multiply(negateMatrix(invertedA11), A12), invertedS22)\n",
    "        B21 = multiply(multiply(negateMatrix(invertedS22), A21), invertedA11)\n",
    "        B22 = invertedS22\n",
    "        resultMatrix = joinMatrixFromFourParts(B11, B12, B21, B22)\n",
    "        return resultMatrix\n",
    "    return invertMatrixBlockRecur(matrix)\n",
    "\n",
    "                            "
   ]
  },
  {
   "cell_type": "markdown",
   "id": "8be1986f",
   "metadata": {},
   "source": [
    "### Testy poprawności odwracania macierzy"
   ]
  },
  {
   "cell_type": "code",
   "execution_count": 143,
   "id": "e804b564",
   "metadata": {},
   "outputs": [
    {
     "name": "stdout",
     "output_type": "stream",
     "text": [
      "[0.33325328300696055, 0.454102804132247, 0.3090809934423714, 0.8027899287892664, 0.7703574594779014, 0.5005920487186658, 0.6824776138164151, 0.6517994983390504]\n",
      "[0.5551824265323151, 0.6048226351209869, 0.7380391201661555, 0.5139849016803489, 0.40013909540424264, 0.2760083515381908, 0.662552710519326, 0.18580527295618465]\n",
      "[0.6784951369464165, 0.17354187512985864, 0.7133074885525275, 0.5096787949736592, 0.8838091502629447, 0.5239064384570482, 0.00693814564731321, 0.07141280758403645]\n",
      "[0.5450944291483685, 0.5056795465672961, 0.21422098976744164, 0.6384594706894903, 0.7022067995490284, 0.4037177243534458, 0.23507141463366676, 0.5050606960156195]\n",
      "[0.6667398343221987, 0.6527988697489534, 0.0899414880227285, 0.5503775934051555, 0.05478048627779308, 0.5054933422586406, 0.48808973743441164, 0.4498338353934772]\n",
      "[0.9827836627162239, 0.7846702343066272, 0.16636696091222247, 0.1132211992886577, 0.17069868533572563, 0.5053192248978399, 0.009670573114522019, 0.27110132741958215]\n",
      "[0.32388784936164916, 0.012661712615592013, 0.27065283888159153, 0.15908184292894845, 0.2349612269419754, 0.5049633868195046, 0.035324268719064356, 0.41125656277436284]\n",
      "[0.43065656244641337, 0.8549357028660776, 0.4244706356670691, 0.39195896349716053, 0.6441675871888206, 0.8596203080221629, 0.5365545908694649, 0.7031568584182556]\n"
     ]
    }
   ],
   "source": [
    "matrixA = createMatrix(8)\n",
    "printMatrix(matrixA)"
   ]
  },
  {
   "cell_type": "code",
   "execution_count": 144,
   "id": "7cf7c8f2",
   "metadata": {},
   "outputs": [
    {
     "data": {
      "text/plain": [
       "[[0.33325328300696055,\n",
       "  0.454102804132247,\n",
       "  0.3090809934423714,\n",
       "  0.8027899287892664,\n",
       "  0.7703574594779014,\n",
       "  0.5005920487186658,\n",
       "  0.6824776138164151,\n",
       "  0.6517994983390504],\n",
       " [0.5551824265323151,\n",
       "  0.6048226351209869,\n",
       "  0.7380391201661555,\n",
       "  0.5139849016803489,\n",
       "  0.40013909540424264,\n",
       "  0.2760083515381908,\n",
       "  0.662552710519326,\n",
       "  0.18580527295618465],\n",
       " [0.6784951369464165,\n",
       "  0.17354187512985864,\n",
       "  0.7133074885525275,\n",
       "  0.5096787949736592,\n",
       "  0.8838091502629447,\n",
       "  0.5239064384570482,\n",
       "  0.00693814564731321,\n",
       "  0.07141280758403645],\n",
       " [0.5450944291483685,\n",
       "  0.5056795465672961,\n",
       "  0.21422098976744164,\n",
       "  0.6384594706894903,\n",
       "  0.7022067995490284,\n",
       "  0.4037177243534458,\n",
       "  0.23507141463366676,\n",
       "  0.5050606960156195],\n",
       " [0.6667398343221987,\n",
       "  0.6527988697489534,\n",
       "  0.0899414880227285,\n",
       "  0.5503775934051555,\n",
       "  0.05478048627779308,\n",
       "  0.5054933422586406,\n",
       "  0.48808973743441164,\n",
       "  0.4498338353934772],\n",
       " [0.9827836627162239,\n",
       "  0.7846702343066272,\n",
       "  0.16636696091222247,\n",
       "  0.1132211992886577,\n",
       "  0.17069868533572563,\n",
       "  0.5053192248978399,\n",
       "  0.009670573114522019,\n",
       "  0.27110132741958215],\n",
       " [0.32388784936164916,\n",
       "  0.012661712615592013,\n",
       "  0.27065283888159153,\n",
       "  0.15908184292894845,\n",
       "  0.2349612269419754,\n",
       "  0.5049633868195046,\n",
       "  0.035324268719064356,\n",
       "  0.41125656277436284],\n",
       " [0.43065656244641337,\n",
       "  0.8549357028660776,\n",
       "  0.4244706356670691,\n",
       "  0.39195896349716053,\n",
       "  0.6441675871888206,\n",
       "  0.8596203080221629,\n",
       "  0.5365545908694649,\n",
       "  0.7031568584182556]]"
      ]
     },
     "execution_count": 144,
     "metadata": {},
     "output_type": "execute_result"
    }
   ],
   "source": [
    "matrixA"
   ]
  },
  {
   "cell_type": "code",
   "execution_count": 148,
   "id": "ca47e366",
   "metadata": {},
   "outputs": [],
   "source": [
    "invertedMatrixBlockValue = invertMatrixBlock(matrixA, multiplyMatricesWithJs, addMatricesWithJs)"
   ]
  },
  {
   "cell_type": "code",
   "execution_count": 149,
   "id": "b6ab72b8",
   "metadata": {},
   "outputs": [],
   "source": [
    "copiedMatrix = copy.deepcopy(matrixA)\n",
    "invertedMatrixTraditionalValue = invertMatrix(copiedMatrix, createIdentityMatrix(copiedMatrix))"
   ]
  },
  {
   "cell_type": "code",
   "execution_count": 150,
   "id": "231e43c0",
   "metadata": {},
   "outputs": [
    {
     "name": "stdout",
     "output_type": "stream",
     "text": [
      "-6.938893903907228e-17\n"
     ]
    }
   ],
   "source": [
    "print(sum([sum(x) for x in addMatricesWithJs(negateMatrix(invertedMatrixBlockValue), invertedMatrixTraditionalValue)]))"
   ]
  },
  {
   "cell_type": "markdown",
   "id": "57cbf37b",
   "metadata": {},
   "source": [
    "## Testy wydajności rozwiązania"
   ]
  },
  {
   "cell_type": "code",
   "execution_count": 178,
   "id": "031a7694",
   "metadata": {},
   "outputs": [],
   "source": [
    "matrixSizes = [2**i for i in range(1,9)]\n",
    "matrices = [createMatrix(i) for i in matrixSizes]"
   ]
  },
  {
   "cell_type": "code",
   "execution_count": 179,
   "id": "11124da7",
   "metadata": {},
   "outputs": [],
   "source": [
    "def dummyInvertMatrixBlock(matrix):\n",
    "    if(len(matrix) <= 2):\n",
    "        return matrix\n",
    "    \n",
    "    A11, A12, A21, A22 = splitMatrixIntoFourParts(matrix)\n",
    "    invertedA11 = dummyInvertMatrixBlock(A11)\n",
    "    S22 = dummyOperation(A22, dummyOperation(dummyOperation(A21, invertedA11), A12))\n",
    "    invertedS22 = dummyInvertMatrixBlock(S22)\n",
    "    \n",
    "    tempResult = dummyOperation(dummyOperation(dummyOperation(A12, invertedS22), A21), invertedA11)\n",
    "    B11 = dummyOperation(invertedA11, dummyOperation(createIdentityMatrix(tempResult), tempResult))\n",
    "    \n",
    "    B12 = dummyOperation(dummyOperation(invertedA11, A12), invertedS22)\n",
    "    B21 = dummyOperation(dummyOperation(invertedS22, A21), invertedA11)\n",
    "    B22 = invertedS22\n",
    "    \n",
    "    return joinMatrixFromFourParts(B11, B12, B21, B22)"
   ]
  },
  {
   "cell_type": "code",
   "execution_count": 180,
   "id": "eb139f6c",
   "metadata": {},
   "outputs": [],
   "source": [
    "import time\n",
    "def calculateRunningTime(matrix):\n",
    "    start_time = time.time()\n",
    "    invertMatrixBlock(matrix, multiplyMatricesWithJs, addMatricesWithJs)\n",
    "    return (time.time() - start_time) * 1000\n",
    "\n",
    "def calculateTraditionalRunningTime(matrix):\n",
    "    start_time = time.time()\n",
    "    invertSmallMatrix(matrix)\n",
    "    return (time.time() - start_time) * 1000\n",
    "\n",
    "def calculateDummyRunningTime(matrix):\n",
    "    start_time = time.time()\n",
    "    dummyInvertMatrixBlock(matrix)\n",
    "    return (time.time() - start_time) * 1000\n",
    "\n",
    "def calculateOperations(matrix):\n",
    "    global operationCount\n",
    "    operationCount = 0\n",
    "    invertMatrixBlock(matrix, multiplyMatricesWithJsWithCounting, addMatricesWithJsWithCounting)\n",
    "    return operationCount\n",
    "\n",
    "def calculateTraditionalOperations(matrix):\n",
    "    global operationCount\n",
    "    operationCount = 0\n",
    "    invertSmallMatrix(matrix)\n",
    "    return operationCount"
   ]
  },
  {
   "cell_type": "markdown",
   "id": "3c11a880",
   "metadata": {},
   "source": [
    "### Pomiar czasu wykonania odwracania macierzy"
   ]
  },
  {
   "cell_type": "code",
   "execution_count": 181,
   "id": "8c4d1236",
   "metadata": {},
   "outputs": [],
   "source": [
    "matrixTimes = [calculateRunningTime(matrix) for matrix in matrices]"
   ]
  },
  {
   "cell_type": "code",
   "execution_count": 182,
   "id": "1b5a6a75",
   "metadata": {},
   "outputs": [],
   "source": [
    "matrixDummyTimes = [calculateDummyRunningTime(matrix) for matrix in matrices]"
   ]
  },
  {
   "cell_type": "code",
   "execution_count": 183,
   "id": "9bd6e3b7",
   "metadata": {},
   "outputs": [],
   "source": [
    "matrixTraditionalTimes = [calculateTraditionalRunningTime(matrix) for matrix in matrices]"
   ]
  },
  {
   "cell_type": "markdown",
   "id": "eedadba5",
   "metadata": {},
   "source": [
    "### Wykres czasu wykonania"
   ]
  },
  {
   "cell_type": "code",
   "execution_count": 184,
   "id": "0090ffbf",
   "metadata": {},
   "outputs": [
    {
     "data": {
      "image/png": "[encoded data removed]",
      "text/plain": [
       "<Figure size 432x288 with 1 Axes>"
      ]
     },
     "metadata": {
      "needs_background": "light"
     },
     "output_type": "display_data"
    }
   ],
   "source": [
    "import matplotlib.pyplot as plt\n",
    "\n",
    "\n",
    "plt.scatter(matrixSizes, matrixTimes)\n",
    "plt.show()"
   ]
  },
  {
   "cell_type": "code",
   "execution_count": 185,
   "id": "a7683c86",
   "metadata": {},
   "outputs": [
    {
     "data": {
      "image/png": "[encoded data removed]",
      "text/plain": [
       "<Figure size 432x288 with 1 Axes>"
      ]
     },
     "metadata": {
      "needs_background": "light"
     },
     "output_type": "display_data"
    }
   ],
   "source": [
    "plt.scatter(matrixSizes, matrixDummyTimes)\n",
    "plt.show()"
   ]
  },
  {
   "cell_type": "code",
   "execution_count": 186,
   "id": "b4aebde0",
   "metadata": {},
   "outputs": [
    {
     "data": {
      "image/png": "[encoded data removed]",
      "text/plain": [
       "<Figure size 432x288 with 1 Axes>"
      ]
     },
     "metadata": {
      "needs_background": "light"
     },
     "output_type": "display_data"
    }
   ],
   "source": [
    "plt.scatter(matrixSizes, matrixTraditionalTimes)\n",
    "plt.show()"
   ]
  },
  {
   "cell_type": "code",
   "execution_count": 187,
   "id": "4a3e084c",
   "metadata": {},
   "outputs": [
    {
     "data": {
      "image/png": "[encoded data removed]",
      "text/plain": [
       "<Figure size 432x288 with 1 Axes>"
      ]
     },
     "metadata": {
      "needs_background": "light"
     },
     "output_type": "display_data"
    }
   ],
   "source": [
    "plt.scatter(matrixSizes, [matrixTimes[i] - matrixDummyTimes[i] for i in range(len(matrixTimes))])\n",
    "plt.show()"
   ]
  },
  {
   "cell_type": "code",
   "execution_count": 169,
   "id": "d3f48761",
   "metadata": {},
   "outputs": [],
   "source": [
    "matrixExtraSizes = [2**i for i in range(1,11)]\n",
    "matricesExtra = [createMatrix(i) for i in matrixExtraSizes]\n",
    "matrixExtraTraditionalTimes = [calculateTraditionalRunningTime(matrix) for matrix in matricesExtra]"
   ]
  },
  {
   "cell_type": "code",
   "execution_count": 170,
   "id": "223f456c",
   "metadata": {},
   "outputs": [
    {
     "data": {
      "image/png": "[encoded data removed]",
      "text/plain": [
       "<Figure size 432x288 with 1 Axes>"
      ]
     },
     "metadata": {
      "needs_background": "light"
     },
     "output_type": "display_data"
    }
   ],
   "source": [
    "plt.scatter(matrixExtraSizes, matrixExtraTraditionalTimes)\n",
    "plt.show()"
   ]
  },
  {
   "cell_type": "markdown",
   "id": "cbcdae36",
   "metadata": {},
   "source": [
    "### Pomiar ilości wykonywanych operacji\n"
   ]
  },
  {
   "cell_type": "code",
   "execution_count": 176,
   "id": "1b05796d",
   "metadata": {},
   "outputs": [],
   "source": [
    "matrixOperations = [calculateOperations(matrix) for matrix in matrices]"
   ]
  },
  {
   "cell_type": "code",
   "execution_count": 172,
   "id": "9a0be32a",
   "metadata": {},
   "outputs": [],
   "source": [
    "matrixTraditionalOperations = [calculateTraditionalOperations(matrix) for matrix in matrices]"
   ]
  },
  {
   "cell_type": "code",
   "execution_count": 177,
   "id": "bccff678",
   "metadata": {},
   "outputs": [
    {
     "data": {
      "image/png": "[encoded data removed]",
      "text/plain": [
       "<Figure size 432x288 with 1 Axes>"
      ]
     },
     "metadata": {
      "needs_background": "light"
     },
     "output_type": "display_data"
    }
   ],
   "source": [
    "plt.scatter(matrixSizes, matrixOperations)\n",
    "plt.show()"
   ]
  },
  {
   "cell_type": "code",
   "execution_count": 174,
   "id": "13c7e6ae",
   "metadata": {},
   "outputs": [
    {
     "data": {
      "image/png": "[encoded data removed]",
      "text/plain": [
       "<Figure size 432x288 with 1 Axes>"
      ]
     },
     "metadata": {
      "needs_background": "light"
     },
     "output_type": "display_data"
    }
   ],
   "source": [
    "plt.scatter(matrixSizes, matrixTraditionalOperations)\n",
    "plt.show()"
   ]
  },
  {
   "cell_type": "code",
   "execution_count": null,
   "id": "c79b7092",
   "metadata": {},
   "outputs": [],
   "source": []
  }
 ],
 "metadata": {
  "kernelspec": {
   "display_name": "Python 3 (ipykernel)",
   "language": "python",
   "name": "python3"
  },
  "language_info": {
   "codemirror_mode": {
    "name": "ipython",
    "version": 3
   },
   "file_extension": ".py",
   "mimetype": "text/x-python",
   "name": "python",
   "nbconvert_exporter": "python",
   "pygments_lexer": "ipython3",
   "version": "3.8.10"
  }
 },
 "nbformat": 4,
 "nbformat_minor": 5
}
