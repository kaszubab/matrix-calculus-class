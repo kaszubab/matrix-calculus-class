{
 "cells": [
  {
   "cell_type": "markdown",
   "id": "9a30519f",
   "metadata": {},
   "source": [
    "### Exercise - Matrix Multiplication"
   ]
  },
  {
   "cell_type": "markdown",
   "id": "adfc72cd",
   "metadata": {},
   "source": [
    "### Random Matrix Generation"
   ]
  },
  {
   "cell_type": "code",
   "execution_count": 66,
   "id": "b193ddff",
   "metadata": {},
   "outputs": [
    {
     "name": "stdout",
     "output_type": "stream",
     "text": [
      "Wprowadź liczbę n (rozmiar macierzy == 2^n)7\n",
      "Wprowadź liczbę n po której nastąpi zmiana wykorzystywanego algorytmu2\n"
     ]
    }
   ],
   "source": [
    "from random import uniform\n",
    "\n",
    "# MATRIX_A_ROWS = 3\n",
    "# MATRIX_A_COLS = 3\n",
    "# MATRIX_B_ROWS = 3\n",
    "# MATRIX_B_COLS = 3\n",
    "\n",
    "MATRIX_SIZE_EXPONENT = int(input(\"Wprowadź liczbę n (rozmiar macierzy == 2^n)\"))\n",
    "ALGORITHM_SWITCH_BOUNDARY_SIZE = int(input(\"Wprowadź liczbę n po której nastąpi zmiana wykorzystywanego algorytmu\"))\n",
    "\n",
    "# MATRIX_A_ROWS = int(input(\"Wprowadź liczbę więrszy macierzy A: \"))\n",
    "# MATRIX_A_COLS = int(input(\"Wprowadź liczbę kolumn macierzy A: \"))\n",
    "# MATRIX_B_ROWS = int(input(\"Wprowadź liczbę więrszy macierzy B: \"))\n",
    "# MATRIX_B_COLS = int(input(\"Wprowadź liczbę kolumn macierzy B: \"))\n",
    "\n",
    "def createMatrix(rows, cols):\n",
    "    matrix = []\n",
    "    for i in range(rows):\n",
    "        matrix.append([])\n",
    "        for j in range(cols):\n",
    "            matrix[i].append(uniform(0, 10))\n",
    "    return matrix\n",
    "\n",
    "def canMultiply():\n",
    "    if (MATRIX_A_COLS != MATRIX_B_ROWS):\n",
    "        print(\"Błędne rozmiary macierzy\")\n",
    "        return False\n",
    "    return True\n",
    "\n",
    "def printMatrix(matrix):\n",
    "    for row in matrix:\n",
    "        print(row)\n",
    "\n",
    "generatedMatrixA = createMatrix(2 ** MATRIX_SIZE_EXPONENT, 2** MATRIX_SIZE_EXPONENT)\n",
    "generatedMatrixB = createMatrix(2 ** MATRIX_SIZE_EXPONENT, 2** MATRIX_SIZE_EXPONENT)"
   ]
  },
  {
   "cell_type": "code",
   "execution_count": 15,
   "id": "1335593f",
   "metadata": {},
   "outputs": [
    {
     "name": "stdout",
     "output_type": "stream",
     "text": [
      "[9.562934029998045, 4.201302868782168, 7.162748173928529, 9.037769392784924]\n",
      "[5.652381433308439, 3.9556803531629003, 4.124046075443352, 2.3271950122063068]\n",
      "[3.09012015980099, 7.073779363343252, 6.7245042677210565, 3.6491970346499523]\n",
      "[1.656452091229783, 1.4680752934493269, 6.303112314105878, 9.79215080516269]\n",
      "[5.81898121735001, 0.39458181389361413, 9.504554154974693, 1.9456181198556954]\n",
      "[0.049935405715602066, 2.9254922835162356, 8.16954219874251, 3.391417911328504]\n",
      "[7.459134040332405, 8.160778186945828, 0.9026820422427084, 7.326493784031262]\n",
      "[0.05670435432961862, 7.986531816645374, 3.863227582600838, 7.93547325130967]\n"
     ]
    }
   ],
   "source": [
    "printMatrix(generatedMatrixA)\n",
    "printMatrix(generatedMatrixB)"
   ]
  },
  {
   "cell_type": "markdown",
   "id": "2d00d1c5",
   "metadata": {},
   "source": [
    "### Basic Naive Algorithm"
   ]
  },
  {
   "cell_type": "code",
   "execution_count": 28,
   "id": "9bea694b",
   "metadata": {},
   "outputs": [],
   "source": [
    "\n",
    "def basicMultiplication(matrixA, matrixB):\n",
    "    matrix = []\n",
    "    for i in range(len(matrixA)):\n",
    "        matrix.append([])\n",
    "        for j in range(len(matrixB)):\n",
    "            sum = 0\n",
    "            for k in range(len(matrixB)):\n",
    "                #print(matrixA[i][k]);\n",
    "                #print(matrixB[k][j]);\n",
    "                sum += matrixA[i][k] * matrixB[k][j]\n",
    "            matrix[i].append(sum)\n",
    "    return matrix\n",
    "\n",
    "def basicMultiplicationWithOperationCounting(matrixA, matrixB):\n",
    "    matrix = []\n",
    "    fpOperations = 0\n",
    "    for i in range(len(matrixA)):\n",
    "        matrix.append([])\n",
    "        for j in range(len(matrixA)):\n",
    "            sum = 0\n",
    "            for k in range(len(matrixA)):\n",
    "                #print(matrixA[i][k]);\n",
    "                #print(matrixB[k][j]);\n",
    "                sum += matrixA[i][k] * matrixB[k][j]\n",
    "                fpOperations += 2\n",
    "            matrix[i].append(sum)\n",
    "    return matrix, fpOperations\n"
   ]
  },
  {
   "cell_type": "markdown",
   "id": "d08ea10d",
   "metadata": {},
   "source": [
    "### Strassen Algorithm"
   ]
  },
  {
   "cell_type": "code",
   "execution_count": 42,
   "id": "18b676b1",
   "metadata": {},
   "outputs": [],
   "source": [
    "def matrixPairwiseOperation(matrixA, matrixB, op):\n",
    "    sumMatrix = [[None] * len(matrixA[0]) for x in matrixA]\n",
    "    for row,_ in enumerate(matrixA):\n",
    "        for col,_ in enumerate(matrixA[row]):\n",
    "            sumMatrix[row][col] = op(matrixA[row][col], matrixB[row][col])\n",
    "    return sumMatrix\n",
    "\n",
    "def matrixPairwiseOperationWithOperationCounting(matrixA, matrixB, op):\n",
    "    fpOperations = 0\n",
    "    sumMatrix = [[None] * len(matrixA[0]) for x in matrixA]\n",
    "    for row,_ in enumerate(matrixA):\n",
    "        for col,_ in enumerate(matrixA[row]):\n",
    "            sumMatrix[row][col] = op(matrixA[row][col], matrixB[row][col])\n",
    "            fpOperations += 1\n",
    "    return sumMatrix, fpOperations\n",
    "\n",
    "def add(matrixA, matrixB):\n",
    "    return matrixPairwiseOperation(matrixA, matrixB, lambda x,y : x + y)\n",
    "    \n",
    "def addWithOperationCounting(matrixA, matrixB):\n",
    "    return matrixPairwiseOperationWithOperationCounting(matrixA, matrixB, lambda x,y : x + y)\n",
    "\n",
    "def sub(matrixA, matrixB):\n",
    "    return matrixPairwiseOperation(matrixA, matrixB, lambda x,y : x - y)\n",
    "    \n",
    "def subWithOperationCounting(matrixA, matrixB):\n",
    "    return matrixPairwiseOperationWithOperationCounting(matrixA, matrixB, lambda x,y : x - y)\n"
   ]
  },
  {
   "cell_type": "code",
   "execution_count": 56,
   "id": "4eba2bac",
   "metadata": {},
   "outputs": [],
   "source": [
    "def splitMatrixIntoFourParts(matrix):\n",
    "    length = len(matrix)\n",
    "    firstHalf = matrix[0:length//2]\n",
    "    secondHalf = matrix[length//2:]\n",
    "    firstQuarter = [x[0:length//2] for x in firstHalf]\n",
    "    secondQuarter = [x[length//2:] for x in firstHalf]\n",
    "    thirdQuarter = [x[0:length//2] for x in secondHalf]\n",
    "    fourthQuarter = [x[length//2:] for x in secondHalf]\n",
    "    return [[firstQuarter, secondQuarter], [thirdQuarter, fourthQuarter]]\n",
    "\n",
    "def joinMatrixFromFourParts(first, second, third, fourth):\n",
    "    firstHalf = [x + y for (x,y) in zip(first, second)]\n",
    "    secondHalf = [x + y for (x,y) in zip(third, fourth)]\n",
    "    return firstHalf + secondHalf\n",
    "\n",
    "def strassenAlgorithm(matrixA, matrixB, multiplyMatrix=None): #we pass multiply matrix to enable algorithm to change multiplication strategy during execution\n",
    "    mul = multiplyMatrix if multiplyMatrix is not None else strassenAlgorithm\n",
    "    length = len(matrixA)\n",
    "    \n",
    "    if length == 1:\n",
    "        return [[matrixA[0][0] * matrixB[0][0]]]\n",
    "    \n",
    "    aParts = splitMatrixIntoFourParts(matrixA)\n",
    "    bParts = splitMatrixIntoFourParts(matrixB)\n",
    "    \n",
    "    P1 = mul(add(aParts[0][0], aParts[1][1]), add(bParts[0][0], bParts[1][1]))\n",
    "    P2 = mul(add(aParts[1][0], aParts[1][1]), bParts[0][0])\n",
    "    P3 = mul(aParts[0][0],sub(bParts[0][1], bParts[1][1]))\n",
    "    P4 = mul(aParts[1][1], sub(bParts[1][0], bParts[0][0]))\n",
    "    P5 = mul(add(aParts[0][0], aParts[0][1]), bParts[1][1])\n",
    "    P6 = mul(sub(aParts[1][0], aParts[0][0]), add(bParts[0][0], bParts[0][1]))\n",
    "    P7 = mul(sub(aParts[0][1], aParts[1][1]), add(bParts[1][0], bParts[1][1]))\n",
    "    \n",
    "    C11 = add(sub(add(P1, P4), P5), P7)\n",
    "    C12 = add(P3, P5)\n",
    "    C21 = add(P2, P4)\n",
    "    C22 = add(add(sub(P1, P2), P3), P6)\n",
    "    \n",
    "    return joinMatrixFromFourParts(C11, C12, C21, C22)\n",
    "\n",
    "def strassenAlgorithmWithOperationCounting(matrixA, matrixB, multiplyMatrixWithCounting=None): #we pass multiply matrix to enable algorithm to change multiplication strategy during execution\n",
    "    mulWithCounting = multiplyMatrixWithCounting if multiplyMatrixWithCounting is not None else strassenAlgorithmWithOperationCounting\n",
    "    length = len(matrixA)\n",
    "    \n",
    "    if length == 1:\n",
    "        return [[matrixA[0][0] * matrixB[0][0]]], 1\n",
    "    \n",
    "    aParts = splitMatrixIntoFourParts(matrixA)\n",
    "    bParts = splitMatrixIntoFourParts(matrixB)\n",
    "    \n",
    "    fpOperations = 0\n",
    "    def add(x, y):\n",
    "        res = addWithOperationCounting(x, y)\n",
    "        nonlocal fpOperations\n",
    "        fpOperations += res[1]\n",
    "        return res[0]\n",
    "    \n",
    "    def sub(x, y):\n",
    "        res = subWithOperationCounting(x, y)\n",
    "        nonlocal fpOperations \n",
    "        fpOperations += res[1]\n",
    "        return res[0]\n",
    "    \n",
    "    def mul(x, y):\n",
    "        res = mulWithCounting(x, y)\n",
    "        nonlocal fpOperations\n",
    "        fpOperations += res[1]\n",
    "        return res[0]\n",
    "    \n",
    "    P1 = mul(add(aParts[0][0], aParts[1][1]), add(bParts[0][0], bParts[1][1]))\n",
    "    P2 = mul(add(aParts[1][0], aParts[1][1]), bParts[0][0])\n",
    "    P3 = mul(aParts[0][0],sub(bParts[0][1], bParts[1][1]))\n",
    "    P4 = mul(aParts[1][1], sub(bParts[1][0], bParts[0][0]))\n",
    "    P5 = mul(add(aParts[0][0], aParts[0][1]), bParts[1][1])\n",
    "    P6 = mul(sub(aParts[1][0], aParts[0][0]), add(bParts[0][0], bParts[0][1]))\n",
    "    P7 = mul(sub(aParts[0][1], aParts[1][1]), add(bParts[1][0], bParts[1][1]))\n",
    "    \n",
    "    C11 = add(sub(add(P1, P4), P5), P7)\n",
    "    C12 = add(P3, P5)\n",
    "    C21 = add(P2, P4)\n",
    "    C22 = add(add(sub(P1, P2), P3), P6)\n",
    "    \n",
    "    \n",
    "    return joinMatrixFromFourParts(C11, C12, C21, C22), fpOperations\n",
    "        \n",
    "        \n"
   ]
  },
  {
   "cell_type": "markdown",
   "id": "2dcfe97e",
   "metadata": {},
   "source": [
    "### Basic test for strassen algorithm utils"
   ]
  },
  {
   "cell_type": "code",
   "execution_count": 57,
   "id": "defd98a0",
   "metadata": {},
   "outputs": [
    {
     "name": "stdout",
     "output_type": "stream",
     "text": [
      "[9.562934029998045, 4.201302868782168, 7.162748173928529, 9.037769392784924]\n",
      "[5.652381433308439, 3.9556803531629003, 4.124046075443352, 2.3271950122063068]\n",
      "[3.09012015980099, 7.073779363343252, 6.7245042677210565, 3.6491970346499523]\n",
      "[1.656452091229783, 1.4680752934493269, 6.303112314105878, 9.79215080516269]\n",
      "[[[9.562934029998045, 4.201302868782168], [5.652381433308439, 3.9556803531629003]], [[7.162748173928529, 9.037769392784924], [4.124046075443352, 2.3271950122063068]]]\n",
      "[[[3.09012015980099, 7.073779363343252], [1.656452091229783, 1.4680752934493269]], [[6.7245042677210565, 3.6491970346499523], [6.303112314105878, 9.79215080516269]]]\n",
      "[9.562934029998045, 4.201302868782168, 7.162748173928529, 9.037769392784924]\n",
      "[5.652381433308439, 3.9556803531629003, 4.124046075443352, 2.3271950122063068]\n",
      "[3.09012015980099, 7.073779363343252, 6.7245042677210565, 3.6491970346499523]\n",
      "[1.656452091229783, 1.4680752934493269, 6.303112314105878, 9.79215080516269]\n"
     ]
    }
   ],
   "source": [
    "printMatrix(generatedMatrixA)\n",
    "printMatrix(splitMatrixIntoFourParts(generatedMatrixA))\n",
    "parts = splitMatrixIntoFourParts(generatedMatrixA)\n",
    "printMatrix(joinMatrixFromFourParts(parts[0][0], parts[0][1], parts[1][0], parts[1][1]))"
   ]
  },
  {
   "cell_type": "markdown",
   "id": "70924f87",
   "metadata": {},
   "source": [
    "### Basic test checking if algorithms answers are the same"
   ]
  },
  {
   "cell_type": "code",
   "execution_count": 58,
   "id": "bbcd0aea",
   "metadata": {},
   "outputs": [
    {
     "name": "stdout",
     "output_type": "stream",
     "text": [
      "[109.79670687107955, 146.69827084240097, 166.59478959788507, 157.05099876867115]\n",
      "[63.9824044528412, 66.04428153097001, 98.75264930228525, 73.09493264492639]\n",
      "[68.70048726107782, 105.9352081290425, 107.32752130169531, 108.22747998444171]\n",
      "[57.28318975279621, 134.59207425503848, 71.25635504665388, 132.086744025259]\n"
     ]
    }
   ],
   "source": [
    "printMatrix(basicMultiplication(generatedMatrixA, generatedMatrixB))"
   ]
  },
  {
   "cell_type": "code",
   "execution_count": 59,
   "id": "c80500cb",
   "metadata": {},
   "outputs": [
    {
     "name": "stdout",
     "output_type": "stream",
     "text": [
      "[109.79670687107946, 146.69827084240097, 166.5947895978851, 157.05099876867115]\n",
      "[63.982404452841166, 66.04428153097001, 98.75264930228528, 73.09493264492643]\n",
      "[68.70048726107782, 105.9352081290425, 107.32752130169531, 108.22747998444174]\n",
      "[57.28318975279622, 134.59207425503848, 71.25635504665388, 132.08674402525904]\n"
     ]
    }
   ],
   "source": [
    "printMatrix(strassenAlgorithm(generatedMatrixA, generatedMatrixB))"
   ]
  },
  {
   "cell_type": "code",
   "execution_count": 67,
   "id": "971af77a",
   "metadata": {},
   "outputs": [
    {
     "name": "stdout",
     "output_type": "stream",
     "text": [
      "4194304\n"
     ]
    }
   ],
   "source": [
    "testRes = basicMultiplicationWithOperationCounting(generatedMatrixA, generatedMatrixB)\n",
    "print(testRes[1])\n",
    "# printMatrix(testRes[0])"
   ]
  },
  {
   "cell_type": "code",
   "execution_count": 68,
   "id": "bbcc0562",
   "metadata": {},
   "outputs": [
    {
     "name": "stdout",
     "output_type": "stream",
     "text": [
      "5666497\n"
     ]
    }
   ],
   "source": [
    "testRes = strassenAlgorithmWithOperationCounting(generatedMatrixA, generatedMatrixB)\n",
    "print(testRes[1])\n",
    "# printMatrix(testRes[0])"
   ]
  },
  {
   "cell_type": "code",
   "execution_count": 62,
   "id": "67f4aa3a",
   "metadata": {},
   "outputs": [],
   "source": [
    "testA = createMatrix(2**6, 2**6)\n",
    "testB = createMatrix(2**6, 2**6)"
   ]
  },
  {
   "cell_type": "code",
   "execution_count": 12,
   "id": "81cd5a92",
   "metadata": {},
   "outputs": [],
   "source": [
    "test = sub(basicMultiplication(generatedMatrixA, generatedMatrixB), strassenAlgorithm(generatedMatrixA, generatedMatrixB))"
   ]
  },
  {
   "cell_type": "code",
   "execution_count": 13,
   "id": "e07998c5",
   "metadata": {},
   "outputs": [
    {
     "name": "stdout",
     "output_type": "stream",
     "text": [
      "-3.410605131648481e-13\n"
     ]
    }
   ],
   "source": [
    "print(sum([sum(x) for x in test]))"
   ]
  },
  {
   "cell_type": "markdown",
   "id": "b503460e",
   "metadata": {},
   "source": [
    "### Hybrid algorithm"
   ]
  },
  {
   "cell_type": "code",
   "execution_count": null,
   "id": "d1e1e9e9",
   "metadata": {},
   "outputs": [],
   "source": []
  },
  {
   "cell_type": "code",
   "execution_count": null,
   "id": "6387d9ba",
   "metadata": {},
   "outputs": [],
   "source": [
    "def main():\n",
    "    if (MATRIX_A_ROWS < 1 or MATRIX_A_COLS < 1 or MATRIX_B_ROWS < 1 or MATRIX_B_COLS < 1):\n",
    "        return print(\"Liczba wierszy/kolumn musi być liczbą całkowitą większa od 0\")\n",
    "\n",
    "    matrixA = createMatrix(MATRIX_A_ROWS, MATRIX_A_COLS)\n",
    "    matrixB = createMatrix(MATRIX_B_ROWS, MATRIX_B_COLS)\n",
    "\n",
    "    print(\"Macierz A:\")\n",
    "    printMatrix(matrixA)\n",
    "    print(\"Macierz B:\")\n",
    "    printMatrix(matrixA)\n",
    "\n",
    "    if (canMultiply()):\n",
    "        if (MATRIX_A_ROWS > 2 and MATRIX_A_COLS > 2):\n",
    "            print(\"wynik mnożenia: \")\n",
    "            printMatrix(basicMultiplication(matrixA,matrixB))\n",
    "        else:\n",
    "            StressenAlgorithm()\n",
    "\n",
    "main()\n",
    "\n",
    "\"\"\"\n",
    "TODO\n",
    "mnożenie liczba x macierz\n",
    "mnożenie metodą Stressena\n",
    "\"\"\""
   ]
  },
  {
   "cell_type": "code",
   "execution_count": null,
   "id": "a657edda",
   "metadata": {},
   "outputs": [],
   "source": []
  }
 ],
 "metadata": {
  "kernelspec": {
   "display_name": "Python 3 (ipykernel)",
   "language": "python",
   "name": "python3"
  },
  "language_info": {
   "codemirror_mode": {
    "name": "ipython",
    "version": 3
   },
   "file_extension": ".py",
   "mimetype": "text/x-python",
   "name": "python",
   "nbconvert_exporter": "python",
   "pygments_lexer": "ipython3",
   "version": "3.8.10"
  }
 },
 "nbformat": 4,
 "nbformat_minor": 5
}
